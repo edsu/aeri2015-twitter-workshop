{
 "cells": [
  {
   "cell_type": "markdown",
   "metadata": {},
   "source": [
    "These are some exercises that are part of the AERI 2015 worskhop on archiving Twitter. We are going to use these as \n",
    "\n",
    "1. [Introduction to JSON](Introduction%20to%20JSON.ipynb)\n",
    "1. [Web Archive Seedlist](Web%20Archive%20Seedlist.ipynb)\n",
    "1. [Word Counts](Word%20Counts.ipynb)\n",
    "1. [Media](Media.ipynb)"
   ]
  },
  {
   "cell_type": "code",
   "execution_count": null,
   "metadata": {
    "collapsed": true
   },
   "outputs": [],
   "source": []
  }
 ],
 "metadata": {
  "kernelspec": {
   "display_name": "Python 3",
   "language": "python",
   "name": "python3"
  },
  "language_info": {
   "codemirror_mode": {
    "name": "ipython",
    "version": 3
   },
   "file_extension": ".py",
   "mimetype": "text/x-python",
   "name": "python",
   "nbconvert_exporter": "python",
   "pygments_lexer": "ipython3",
   "version": "3.4.0"
  }
 },
 "nbformat": 4,
 "nbformat_minor": 0
}
