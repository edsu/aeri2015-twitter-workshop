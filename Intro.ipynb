{
 "cells": [
  {
   "cell_type": "markdown",
   "metadata": {},
   "source": [
    "These are some [iPython Notebooks](http://ipython.org/notebook.html) that we are going to use as exercised during the [AERI 2015 worskhop on archiving Twitter](http://aeri2015.umd.edu/workshop-4/). We are going to use these as a way to explore the Twitter data we've collected with [Social Feed Manager](https://github.com/gwu-libraries/sfm), which is stored in the [data](data) directory.\n",
    "\n",
    "You have copies of all these notebooks so feel free to edit them, and experiment if you want.\n",
    "\n",
    "1. [Introduction to JSON](Introduction%20to%20JSON.ipynb)\n",
    "1. [Web Archive Seedlist](Web%20Archive%20Seedlist.ipynb)\n",
    "1. [Word Counts](Word%20Counts.ipynb)\n",
    "1. [Media](Media.ipynb)\n",
    "1. [Frequency Plots](Frequency Plots.ipynb)\n",
    "\n",
    "In this part of the workshop we are going to be working with JSON data that has come directly from the Twitter API. You can learn more about the structure of this data in Twitter's [Field Guide](https://dev.twitter.com/overview/api/tweets) to a tweet.\n",
    "\n",
    "You can find these [notebooks](https://github.com/edsu/aeri2015-twitter-workshop) on GitHub as well if you want to use them after the workshop.\n"
   ]
  },
  {
   "cell_type": "code",
   "execution_count": null,
   "metadata": {
    "collapsed": true
   },
   "outputs": [],
   "source": []
  }
 ],
 "metadata": {
  "kernelspec": {
   "display_name": "Python 3",
   "language": "python",
   "name": "python3"
  },
  "language_info": {
   "codemirror_mode": {
    "name": "ipython",
    "version": 3
   },
   "file_extension": ".py",
   "mimetype": "text/x-python",
   "name": "python",
   "nbconvert_exporter": "python",
   "pygments_lexer": "ipython3",
   "version": "3.4.2"
  }
 },
 "nbformat": 4,
 "nbformat_minor": 0
}
