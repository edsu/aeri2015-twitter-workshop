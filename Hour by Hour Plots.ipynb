{
 "cells": [
  {
   "cell_type": "code",
   "execution_count": 3,
   "metadata": {
    "collapsed": true
   },
   "outputs": [],
   "source": [
    "import json\n",
    "import gzip\n",
    "import pandas"
   ]
  },
  {
   "cell_type": "code",
   "execution_count": 4,
   "metadata": {
    "collapsed": true
   },
   "outputs": [],
   "source": [
    "import matplotlib"
   ]
  },
  {
   "cell_type": "code",
   "execution_count": 27,
   "metadata": {
    "collapsed": true
   },
   "outputs": [],
   "source": [
    "filepath = 'data/assorted/ferguson-blacklivesmatter.json.gz'"
   ]
  },
  {
   "cell_type": "code",
   "execution_count": 28,
   "metadata": {
    "collapsed": false
   },
   "outputs": [
    {
     "data": {
      "text/plain": [
       "{'contributors': None,\n",
       " 'coordinates': None,\n",
       " 'created_at': 'Wed Feb 25 04:27:16 +0000 2015',\n",
       " 'entities': {'hashtags': [{'indices': [70, 87], 'text': 'BlackLivesMatter'},\n",
       "   {'indices': [88, 102], 'text': 'TrayvonMartin'},\n",
       "   {'indices': [103, 112], 'text': 'Ferguson'},\n",
       "   {'indices': [113, 123], 'text': 'MikeBrown'},\n",
       "   {'indices': [124, 137], 'text': 'ICantBreathe'}],\n",
       "  'symbols': [],\n",
       "  'urls': [],\n",
       "  'user_mentions': [{'id': 2760789090,\n",
       "    'id_str': '2760789090',\n",
       "    'indices': [3, 14],\n",
       "    'name': 'AnonFatCat',\n",
       "    'screen_name': 'AnonFatCat'},\n",
       "   {'id': 20852175,\n",
       "    'id_str': '20852175',\n",
       "    'indices': [19, 30],\n",
       "    'name': 'Norm Clark',\n",
       "    'screen_name': 'Normsmusic'},\n",
       "   {'id': 16873455,\n",
       "    'id_str': '16873455',\n",
       "    'indices': [33, 45],\n",
       "    'name': 'Bishop Talbert Swan',\n",
       "    'screen_name': 'TalbertSwan'}]},\n",
       " 'favorite_count': 0,\n",
       " 'favorited': False,\n",
       " 'geo': None,\n",
       " 'id': 570439862731612161,\n",
       " 'id_str': '570439862731612161',\n",
       " 'in_reply_to_screen_name': None,\n",
       " 'in_reply_to_status_id': None,\n",
       " 'in_reply_to_status_id_str': None,\n",
       " 'in_reply_to_user_id': None,\n",
       " 'in_reply_to_user_id_str': None,\n",
       " 'is_quote_status': False,\n",
       " 'lang': 'en',\n",
       " 'place': None,\n",
       " 'retweet_count': 4,\n",
       " 'retweeted': False,\n",
       " 'retweeted_status': {'contributors': None,\n",
       "  'coordinates': None,\n",
       "  'created_at': 'Wed Feb 25 03:29:45 +0000 2015',\n",
       "  'entities': {'hashtags': [{'indices': [54, 71], 'text': 'BlackLivesMatter'},\n",
       "    {'indices': [72, 86], 'text': 'TrayvonMartin'},\n",
       "    {'indices': [87, 96], 'text': 'Ferguson'},\n",
       "    {'indices': [97, 107], 'text': 'MikeBrown'},\n",
       "    {'indices': [108, 121], 'text': 'ICantBreathe'}],\n",
       "   'symbols': [],\n",
       "   'urls': [],\n",
       "   'user_mentions': [{'id': 20852175,\n",
       "     'id_str': '20852175',\n",
       "     'indices': [3, 14],\n",
       "     'name': 'Norm Clark',\n",
       "     'screen_name': 'Normsmusic'},\n",
       "    {'id': 16873455,\n",
       "     'id_str': '16873455',\n",
       "     'indices': [17, 29],\n",
       "     'name': 'Bishop Talbert Swan',\n",
       "     'screen_name': 'TalbertSwan'}]},\n",
       "  'favorite_count': 1,\n",
       "  'favorited': False,\n",
       "  'geo': None,\n",
       "  'id': 570425389929115648,\n",
       "  'id_str': '570425389929115648',\n",
       "  'in_reply_to_screen_name': None,\n",
       "  'in_reply_to_status_id': None,\n",
       "  'in_reply_to_status_id_str': None,\n",
       "  'in_reply_to_user_id': None,\n",
       "  'in_reply_to_user_id_str': None,\n",
       "  'is_quote_status': False,\n",
       "  'lang': 'en',\n",
       "  'place': None,\n",
       "  'retweet_count': 4,\n",
       "  'retweeted': False,\n",
       "  'source': '<a href=\"http://localhost.com\" rel=\"nofollow\">Anonfatcat</a>',\n",
       "  'text': 'RT @Normsmusic: “@TalbertSwan: Now, who was the thug? #BlackLivesMatter #TrayvonMartin #Ferguson #MikeBrown #ICantBreathe http://t.co/srGPN…',\n",
       "  'truncated': False,\n",
       "  'user': {'contributors_enabled': False,\n",
       "   'created_at': 'Sat Aug 23 23:51:33 +0000 2014',\n",
       "   'default_profile': False,\n",
       "   'default_profile_image': False,\n",
       "   'description': '',\n",
       "   'entities': {'description': {'urls': []}},\n",
       "   'favourites_count': 6,\n",
       "   'follow_request_sent': False,\n",
       "   'followers_count': 4875,\n",
       "   'following': False,\n",
       "   'friends_count': 922,\n",
       "   'geo_enabled': False,\n",
       "   'has_extended_profile': False,\n",
       "   'id': 2760789090,\n",
       "   'id_str': '2760789090',\n",
       "   'is_translation_enabled': False,\n",
       "   'is_translator': False,\n",
       "   'lang': 'en',\n",
       "   'listed_count': 546,\n",
       "   'location': 'United States of Martial Law',\n",
       "   'name': 'AnonFatCat',\n",
       "   'notifications': False,\n",
       "   'profile_background_color': '000000',\n",
       "   'profile_background_image_url': 'http://abs.twimg.com/images/themes/theme1/bg.png',\n",
       "   'profile_background_image_url_https': 'https://abs.twimg.com/images/themes/theme1/bg.png',\n",
       "   'profile_background_tile': False,\n",
       "   'profile_banner_url': 'https://pbs.twimg.com/profile_banners/2760789090/1408838148',\n",
       "   'profile_image_url': 'http://pbs.twimg.com/profile_images/503329420392685568/gHe8wmKW_normal.png',\n",
       "   'profile_image_url_https': 'https://pbs.twimg.com/profile_images/503329420392685568/gHe8wmKW_normal.png',\n",
       "   'profile_link_color': '000000',\n",
       "   'profile_sidebar_border_color': '000000',\n",
       "   'profile_sidebar_fill_color': '000000',\n",
       "   'profile_text_color': '000000',\n",
       "   'profile_use_background_image': False,\n",
       "   'protected': False,\n",
       "   'screen_name': 'AnonFatCat',\n",
       "   'statuses_count': 115488,\n",
       "   'time_zone': 'Eastern Time (US & Canada)',\n",
       "   'url': None,\n",
       "   'utc_offset': -14400,\n",
       "   'verified': False}},\n",
       " 'source': '<a href=\"http://twitter.com/download/android\" rel=\"nofollow\">Twitter for Android</a>',\n",
       " 'text': 'RT @AnonFatCat: RT @Normsmusic: “@TalbertSwan: Now, who was the thug? #BlackLivesMatter #TrayvonMartin #Ferguson #MikeBrown #ICantBreathe h…',\n",
       " 'truncated': False,\n",
       " 'user': {'contributors_enabled': False,\n",
       "  'created_at': 'Sat Dec 31 04:50:45 +0000 2011',\n",
       "  'default_profile': True,\n",
       "  'default_profile_image': False,\n",
       "  'description': '',\n",
       "  'entities': {'description': {'urls': []}},\n",
       "  'favourites_count': 889,\n",
       "  'follow_request_sent': False,\n",
       "  'followers_count': 768,\n",
       "  'following': False,\n",
       "  'friends_count': 987,\n",
       "  'geo_enabled': True,\n",
       "  'has_extended_profile': False,\n",
       "  'id': 451201023,\n",
       "  'id_str': '451201023',\n",
       "  'is_translation_enabled': False,\n",
       "  'is_translator': False,\n",
       "  'lang': 'en',\n",
       "  'listed_count': 18,\n",
       "  'location': 'NY, NY... the Biiiiig Apple',\n",
       "  'name': 'the sound of joy',\n",
       "  'notifications': False,\n",
       "  'profile_background_color': 'C0DEED',\n",
       "  'profile_background_image_url': 'http://abs.twimg.com/images/themes/theme1/bg.png',\n",
       "  'profile_background_image_url_https': 'https://abs.twimg.com/images/themes/theme1/bg.png',\n",
       "  'profile_background_tile': False,\n",
       "  'profile_banner_url': 'https://pbs.twimg.com/profile_banners/451201023/1428188531',\n",
       "  'profile_image_url': 'http://pbs.twimg.com/profile_images/584491242546946049/v6DGklPb_normal.png',\n",
       "  'profile_image_url_https': 'https://pbs.twimg.com/profile_images/584491242546946049/v6DGklPb_normal.png',\n",
       "  'profile_link_color': '0084B4',\n",
       "  'profile_sidebar_border_color': 'C0DEED',\n",
       "  'profile_sidebar_fill_color': 'DDEEF6',\n",
       "  'profile_text_color': '333333',\n",
       "  'profile_use_background_image': True,\n",
       "  'protected': False,\n",
       "  'screen_name': 'enlightenment64',\n",
       "  'statuses_count': 7357,\n",
       "  'time_zone': 'Eastern Time (US & Canada)',\n",
       "  'url': None,\n",
       "  'utc_offset': -14400,\n",
       "  'verified': False}}"
      ]
     },
     "execution_count": 28,
     "metadata": {},
     "output_type": "execute_result"
    }
   ],
   "source": [
    "tweet = json.loads(next(gzip.open(filepath, 'rt')))\n",
    "tweet"
   ]
  },
  {
   "cell_type": "code",
   "execution_count": 21,
   "metadata": {
    "collapsed": false
   },
   "outputs": [],
   "source": [
    "def get_creation_date_and_ids(tweet):\n",
    "    \n",
    "    return {\"id\":tweet[\"id\"],\n",
    "            \"date\": tweet[\"created_at\"]}\n",
    "    \n",
    "def get_creation_date(tweet):\n",
    "    \n",
    "    if 'delete' in tweet:\n",
    "        return\n",
    "    \n",
    "    try:\n",
    "        return tweet[\"created_at\"]\n",
    "    except ValueError:\n",
    "        print(tweet)\n",
    "        \n",
    "def get_dates(filename):\n",
    "    dates = []\n",
    "    for line in gzip.open(filename, 'rt'):\n",
    "        tweet = json.loads(line)\n",
    "        dates.append(get_creation_date(tweet))\n",
    "    return dates\n",
    "        "
   ]
  },
  {
   "cell_type": "code",
   "execution_count": 29,
   "metadata": {
    "collapsed": false
   },
   "outputs": [
    {
     "data": {
      "text/plain": [
       "['Wed Feb 25 04:27:16 +0000 2015']"
      ]
     },
     "execution_count": 29,
     "metadata": {},
     "output_type": "execute_result"
    }
   ],
   "source": [
    "dates = get_dates(filepath)\n",
    "dates[0:1]"
   ]
  },
  {
   "cell_type": "code",
   "execution_count": 30,
   "metadata": {
    "collapsed": false
   },
   "outputs": [],
   "source": [
    "pandas_dates = pandas.Series(dates, dtype='datetime64[ns]')"
   ]
  },
  {
   "cell_type": "code",
   "execution_count": 31,
   "metadata": {
    "collapsed": false
   },
   "outputs": [
    {
     "data": {
      "text/plain": [
       "0       2015-02-25 04:27:16\n",
       "1       2015-02-25 04:42:00\n",
       "2       2015-02-25 04:46:43\n",
       "3       2015-02-25 04:48:24\n",
       "4       2015-02-25 04:48:42\n",
       "5       2015-02-25 04:49:11\n",
       "6       2015-02-25 04:58:59\n",
       "7       2015-02-25 04:59:07\n",
       "8       2015-02-25 04:59:43\n",
       "9       2015-02-25 04:59:53\n",
       "10      2015-02-25 04:59:59\n",
       "11      2015-02-25 05:00:01\n",
       "12      2015-02-25 05:00:03\n",
       "13      2015-02-25 05:01:20\n",
       "14      2015-02-25 05:01:41\n",
       "15      2015-02-25 05:01:42\n",
       "16      2015-02-25 05:01:47\n",
       "17      2015-02-25 05:01:55\n",
       "18      2015-02-25 05:02:11\n",
       "19      2015-02-25 05:02:20\n",
       "20      2015-02-25 05:02:34\n",
       "21      2015-02-25 05:03:01\n",
       "22      2015-02-25 05:03:17\n",
       "23      2015-02-25 05:03:27\n",
       "24      2015-02-25 05:04:41\n",
       "25      2015-02-25 05:06:56\n",
       "26      2015-02-25 05:10:56\n",
       "27      2015-02-25 05:12:56\n",
       "28      2015-02-25 05:18:24\n",
       "29      2015-02-25 05:19:55\n",
       "                ...        \n",
       "16011   2015-03-12 15:34:24\n",
       "16012   2015-03-12 15:34:26\n",
       "16013   2015-03-12 15:34:35\n",
       "16014   2015-03-12 15:34:37\n",
       "16015   2015-03-12 15:34:41\n",
       "16016   2015-03-12 15:34:43\n",
       "16017   2015-03-12 15:34:57\n",
       "16018   2015-03-12 15:35:02\n",
       "16019   2015-03-12 15:35:09\n",
       "16020   2015-03-12 15:35:17\n",
       "16021   2015-03-12 15:35:26\n",
       "16022   2015-03-12 15:35:42\n",
       "16023   2015-03-12 15:35:58\n",
       "16024   2015-03-12 15:36:19\n",
       "16025   2015-03-12 15:38:02\n",
       "16026   2015-03-12 15:38:19\n",
       "16027   2015-03-12 15:38:31\n",
       "16028   2015-03-12 15:38:45\n",
       "16029   2015-03-12 15:39:56\n",
       "16030   2015-03-12 15:40:52\n",
       "16031   2015-03-12 15:41:24\n",
       "16032   2015-03-12 15:43:15\n",
       "16033   2015-03-12 15:44:22\n",
       "16034   2015-03-12 15:44:52\n",
       "16035   2015-03-12 15:45:28\n",
       "16036   2015-03-12 15:45:31\n",
       "16037   2015-03-12 15:47:07\n",
       "16038   2015-03-12 15:47:15\n",
       "16039   2015-03-12 15:48:19\n",
       "16040   2015-03-12 15:48:22\n",
       "dtype: datetime64[ns]"
      ]
     },
     "execution_count": 31,
     "metadata": {},
     "output_type": "execute_result"
    }
   ],
   "source": [
    "pandas_dates"
   ]
  },
  {
   "cell_type": "code",
   "execution_count": null,
   "metadata": {
    "collapsed": true
   },
   "outputs": [],
   "source": []
  }
 ],
 "metadata": {
  "kernelspec": {
   "display_name": "Python 3",
   "language": "python",
   "name": "python3"
  },
  "language_info": {
   "codemirror_mode": {
    "name": "ipython",
    "version": 3
   },
   "file_extension": ".py",
   "mimetype": "text/x-python",
   "name": "python",
   "nbconvert_exporter": "python",
   "pygments_lexer": "ipython3",
   "version": "3.4.0"
  }
 },
 "nbformat": 4,
 "nbformat_minor": 0
}
