{
 "cells": [
  {
   "cell_type": "code",
   "execution_count": 1,
   "metadata": {
    "collapsed": true
   },
   "outputs": [],
   "source": [
    "import json\n",
    "import gzip\n",
    "import pandas"
   ]
  },
  {
   "cell_type": "code",
   "execution_count": null,
   "metadata": {
    "collapsed": true
   },
   "outputs": [],
   "source": [
    "import matplotlib"
   ]
  },
  {
   "cell_type": "code",
   "execution_count": 4,
   "metadata": {
    "collapsed": true
   },
   "outputs": [],
   "source": [
    "filepath = 'data/filters/fakePREMIS/author-mentions.json.gz'"
   ]
  },
  {
   "cell_type": "code",
   "execution_count": 5,
   "metadata": {
    "collapsed": false
   },
   "outputs": [],
   "source": [
    "\n",
    "with gzip.open(filepath, 'rt') as f:\n",
    "    tweets = [json.loads(line) for line in f]"
   ]
  },
  {
   "cell_type": "code",
   "execution_count": 6,
   "metadata": {
    "collapsed": false
   },
   "outputs": [
    {
     "data": {
      "text/plain": [
       "6303"
      ]
     },
     "execution_count": 6,
     "metadata": {},
     "output_type": "execute_result"
    }
   ],
   "source": [
    "len(tweets)"
   ]
  },
  {
   "cell_type": "code",
   "execution_count": 7,
   "metadata": {
    "collapsed": false
   },
   "outputs": [
    {
     "data": {
      "text/plain": [
       "{'contributors': None,\n",
       " 'coordinates': None,\n",
       " 'created_at': 'Sat Jul 11 09:56:23 +0000 2015',\n",
       " 'entities': {'hashtags': [],\n",
       "  'symbols': [],\n",
       "  'trends': [],\n",
       "  'urls': [],\n",
       "  'user_mentions': [{'id': 14274132,\n",
       "    'id_str': '14274132',\n",
       "    'indices': [3, 12],\n",
       "    'name': 'John Perry Barlow',\n",
       "    'screen_name': 'JPBarlow'}]},\n",
       " 'favorite_count': 0,\n",
       " 'favorited': False,\n",
       " 'filter_level': 'low',\n",
       " 'geo': None,\n",
       " 'id': 619807437986635776,\n",
       " 'id_str': '619807437986635776',\n",
       " 'in_reply_to_screen_name': None,\n",
       " 'in_reply_to_status_id': None,\n",
       " 'in_reply_to_status_id_str': None,\n",
       " 'in_reply_to_user_id': None,\n",
       " 'in_reply_to_user_id_str': None,\n",
       " 'lang': 'en',\n",
       " 'place': None,\n",
       " 'possibly_sensitive': False,\n",
       " 'retweet_count': 0,\n",
       " 'retweeted': False,\n",
       " 'retweeted_status': {'contributors': None,\n",
       "  'coordinates': {'coordinates': [-122.435073, 37.768699], 'type': 'Point'},\n",
       "  'created_at': 'Sat Jul 11 04:08:20 +0000 2015',\n",
       "  'entities': {'hashtags': [],\n",
       "   'symbols': [],\n",
       "   'trends': [],\n",
       "   'urls': [],\n",
       "   'user_mentions': []},\n",
       "  'favorite_count': 146,\n",
       "  'favorited': False,\n",
       "  'filter_level': 'low',\n",
       "  'geo': {'coordinates': [37.768699, -122.435073], 'type': 'Point'},\n",
       "  'id': 619719848361209856,\n",
       "  'id_str': '619719848361209856',\n",
       "  'in_reply_to_screen_name': None,\n",
       "  'in_reply_to_status_id': None,\n",
       "  'in_reply_to_status_id_str': None,\n",
       "  'in_reply_to_user_id': None,\n",
       "  'in_reply_to_user_id_str': None,\n",
       "  'lang': 'en',\n",
       "  'place': {'attributes': {},\n",
       "   'bounding_box': {'coordinates': [[[-122.514926, 37.708075],\n",
       "      [-122.514926, 37.833238],\n",
       "      [-122.357031, 37.833238],\n",
       "      [-122.357031, 37.708075]]],\n",
       "    'type': 'Polygon'},\n",
       "   'country': 'United States',\n",
       "   'country_code': 'US',\n",
       "   'full_name': 'San Francisco, CA',\n",
       "   'id': '5a110d312052166f',\n",
       "   'name': 'San Francisco',\n",
       "   'place_type': 'city',\n",
       "   'url': 'https://api.twitter.com/1.1/geo/id/5a110d312052166f.json'},\n",
       "  'possibly_sensitive': False,\n",
       "  'retweet_count': 127,\n",
       "  'retweeted': False,\n",
       "  'source': '<a href=\"http://stone.com/Twittelator\" rel=\"nofollow\">Twittelator</a>',\n",
       "  'text': \"So, Schrödinger's cat walks into a bar. And doesn't.\",\n",
       "  'truncated': False,\n",
       "  'user': {'contributors_enabled': False,\n",
       "   'created_at': 'Tue Apr 01 12:01:59 +0000 2008',\n",
       "   'default_profile': False,\n",
       "   'default_profile_image': False,\n",
       "   'description': 'I co-founded EFF, wrote songs for the Dead, ranched in Wyoming for 17 years.  A weird father, a good friend, and an excellent ex.',\n",
       "   'favourites_count': 25,\n",
       "   'follow_request_sent': None,\n",
       "   'followers_count': 52328,\n",
       "   'following': None,\n",
       "   'friends_count': 1623,\n",
       "   'geo_enabled': True,\n",
       "   'id': 14274132,\n",
       "   'id_str': '14274132',\n",
       "   'is_translator': False,\n",
       "   'lang': 'en',\n",
       "   'listed_count': 3184,\n",
       "   'location': '30.6180, -87.9120',\n",
       "   'name': 'John Perry Barlow',\n",
       "   'notifications': None,\n",
       "   'profile_background_color': '9AE4E8',\n",
       "   'profile_background_image_url': 'http://pbs.twimg.com/profile_background_images/52593187/Fremont_Peak.JPG',\n",
       "   'profile_background_image_url_https': 'https://pbs.twimg.com/profile_background_images/52593187/Fremont_Peak.JPG',\n",
       "   'profile_background_tile': False,\n",
       "   'profile_banner_url': 'https://pbs.twimg.com/profile_banners/14274132/1398283818',\n",
       "   'profile_image_url': 'http://pbs.twimg.com/profile_images/593246930014064640/zvByG4sa_normal.jpg',\n",
       "   'profile_image_url_https': 'https://pbs.twimg.com/profile_images/593246930014064640/zvByG4sa_normal.jpg',\n",
       "   'profile_link_color': '000000',\n",
       "   'profile_sidebar_border_color': '2157A3',\n",
       "   'profile_sidebar_fill_color': '4F8DE6',\n",
       "   'profile_text_color': '000000',\n",
       "   'profile_use_background_image': True,\n",
       "   'protected': False,\n",
       "   'screen_name': 'JPBarlow',\n",
       "   'statuses_count': 16715,\n",
       "   'time_zone': 'Pacific Time (US & Canada)',\n",
       "   'url': 'http://www.facebook.com/profile.php?id=26767&ref=name',\n",
       "   'utc_offset': -25200,\n",
       "   'verified': False}},\n",
       " 'source': '<a href=\"http://twitter.com\" rel=\"nofollow\">Twitter Web Client</a>',\n",
       " 'text': \"RT @JPBarlow: So, Schrödinger's cat walks into a bar. And doesn't.\",\n",
       " 'timestamp_ms': '1436608583338',\n",
       " 'truncated': False,\n",
       " 'user': {'contributors_enabled': False,\n",
       "  'created_at': 'Sun May 18 17:22:28 +0000 2014',\n",
       "  'default_profile': False,\n",
       "  'default_profile_image': False,\n",
       "  'description': None,\n",
       "  'favourites_count': 17957,\n",
       "  'follow_request_sent': None,\n",
       "  'followers_count': 433,\n",
       "  'following': None,\n",
       "  'friends_count': 112,\n",
       "  'geo_enabled': True,\n",
       "  'id': 2505046681,\n",
       "  'id_str': '2505046681',\n",
       "  'is_translator': False,\n",
       "  'lang': 'fr',\n",
       "  'listed_count': 21,\n",
       "  'location': 'France',\n",
       "  'name': 'Kapitev Trip',\n",
       "  'notifications': None,\n",
       "  'profile_background_color': '131516',\n",
       "  'profile_background_image_url': 'http://pbs.twimg.com/profile_background_images/520944032499785728/quDJKPCx.jpeg',\n",
       "  'profile_background_image_url_https': 'https://pbs.twimg.com/profile_background_images/520944032499785728/quDJKPCx.jpeg',\n",
       "  'profile_background_tile': True,\n",
       "  'profile_banner_url': 'https://pbs.twimg.com/profile_banners/2505046681/1411819287',\n",
       "  'profile_image_url': 'http://pbs.twimg.com/profile_images/484623771601338368/jBnxw7Ld_normal.jpeg',\n",
       "  'profile_image_url_https': 'https://pbs.twimg.com/profile_images/484623771601338368/jBnxw7Ld_normal.jpeg',\n",
       "  'profile_link_color': '223344',\n",
       "  'profile_sidebar_border_color': 'FFFFFF',\n",
       "  'profile_sidebar_fill_color': 'EFEFEF',\n",
       "  'profile_text_color': '333333',\n",
       "  'profile_use_background_image': True,\n",
       "  'protected': False,\n",
       "  'screen_name': 'KapilthevT',\n",
       "  'statuses_count': 2505,\n",
       "  'time_zone': 'Athens',\n",
       "  'url': None,\n",
       "  'utc_offset': 10800,\n",
       "  'verified': False}}"
      ]
     },
     "execution_count": 7,
     "metadata": {},
     "output_type": "execute_result"
    }
   ],
   "source": [
    "tweets[0]"
   ]
  },
  {
   "cell_type": "code",
   "execution_count": 27,
   "metadata": {
    "collapsed": false
   },
   "outputs": [],
   "source": [
    "def get_creation_date_and_ids(tweet):\n",
    "    \n",
    "    return {\"id\":tweet[\"id\"],\n",
    "            \"date\": tweet[\"created_at\"]}\n",
    "    \n",
    "def get_creation_date(tweet):\n",
    "    \n",
    "    if 'delete' in tweet:\n",
    "        return\n",
    "    \n",
    "    try:\n",
    "        return tweet[\"created_at\"]\n",
    "    except ValueError:\n",
    "        print(tweet)"
   ]
  },
  {
   "cell_type": "code",
   "execution_count": 28,
   "metadata": {
    "collapsed": false
   },
   "outputs": [
    {
     "data": {
      "text/plain": [
       "['Sat Jul 11 09:56:23 +0000 2015']"
      ]
     },
     "execution_count": 28,
     "metadata": {},
     "output_type": "execute_result"
    }
   ],
   "source": [
    "dates = [get_creation_date(tweet) for tweet in tweets]\n",
    "dates[0:1]"
   ]
  },
  {
   "cell_type": "code",
   "execution_count": 29,
   "metadata": {
    "collapsed": false
   },
   "outputs": [],
   "source": [
    "pandas_dates = pandas.Series(dates, dtype='datetime64[ns]')"
   ]
  },
  {
   "cell_type": "code",
   "execution_count": 35,
   "metadata": {
    "collapsed": false
   },
   "outputs": [
    {
     "data": {
      "text/plain": [
       "0      2015-07-11 09:56:23\n",
       "1      2015-07-11 09:56:41\n",
       "2      2015-07-11 09:57:13\n",
       "3      2015-07-11 09:57:55\n",
       "4      2015-07-11 09:59:37\n",
       "5      2015-07-11 10:03:51\n",
       "6      2015-07-11 10:05:42\n",
       "7      2015-07-11 10:06:07\n",
       "8      2015-07-11 10:06:07\n",
       "9      2015-07-11 10:07:47\n",
       "10     2015-07-11 10:09:55\n",
       "11     2015-07-10 21:21:37\n",
       "12     2015-07-10 21:21:42\n",
       "13     2015-07-10 21:21:43\n",
       "14     2015-07-10 21:21:46\n",
       "15     2015-07-10 21:21:48\n",
       "16     2015-07-10 21:21:55\n",
       "17     2015-07-10 21:21:57\n",
       "18     2015-07-10 21:22:02\n",
       "19     2015-07-10 21:22:05\n",
       "20     2015-07-10 21:22:11\n",
       "21     2015-07-10 21:22:14\n",
       "22     2015-07-10 21:22:14\n",
       "23     2015-07-10 21:22:18\n",
       "24     2015-07-10 21:22:55\n",
       "25     2015-07-10 21:23:48\n",
       "26     2015-07-10 21:23:58\n",
       "27     2015-07-10 21:24:26\n",
       "28     2015-07-10 21:24:38\n",
       "29     2015-07-10 21:24:52\n",
       "               ...        \n",
       "6273   2015-07-10 11:11:28\n",
       "6274   2015-07-10 11:12:18\n",
       "6275   2015-07-10 11:15:31\n",
       "6276   2015-07-10 10:24:13\n",
       "6277   2015-07-10 10:27:08\n",
       "6278   2015-07-10 10:27:42\n",
       "6279   2015-07-10 10:28:02\n",
       "6280   2015-07-10 10:29:54\n",
       "6281   2015-07-10 10:35:46\n",
       "6282   2015-07-10 10:36:05\n",
       "6283   2015-07-10 10:36:44\n",
       "6284   2015-07-10 10:37:34\n",
       "6285   2015-07-10 10:42:29\n",
       "6286   2015-07-10 10:45:34\n",
       "6287   2015-07-10 10:48:51\n",
       "6288   2015-07-10 10:50:24\n",
       "6289   2015-07-10 10:51:00\n",
       "6290   2015-07-10 10:51:27\n",
       "6291   2015-07-10 10:53:08\n",
       "6292   2015-07-10 10:55:27\n",
       "6293   2015-07-10 10:55:59\n",
       "6294   2015-07-10 10:56:30\n",
       "6295   2015-07-10 10:59:50\n",
       "6296   2015-07-10 10:09:24\n",
       "6297   2015-07-10 10:09:45\n",
       "6298   2015-07-10 10:11:59\n",
       "6299   2015-07-10 10:16:24\n",
       "6300   2015-07-10 10:20:23\n",
       "6301   2015-07-10 10:21:40\n",
       "6302   2015-07-10 10:23:28\n",
       "dtype: datetime64[ns]"
      ]
     },
     "execution_count": 35,
     "metadata": {},
     "output_type": "execute_result"
    }
   ],
   "source": [
    "pandas_dates"
   ]
  },
  {
   "cell_type": "code",
   "execution_count": null,
   "metadata": {
    "collapsed": true
   },
   "outputs": [],
   "source": []
  }
 ],
 "metadata": {
  "kernelspec": {
   "display_name": "Python 3",
   "language": "python",
   "name": "python3"
  },
  "language_info": {
   "codemirror_mode": {
    "name": "ipython",
    "version": 3
   },
   "file_extension": ".py",
   "mimetype": "text/x-python",
   "name": "python",
   "nbconvert_exporter": "python",
   "pygments_lexer": "ipython3",
   "version": "3.4.0"
  }
 },
 "nbformat": 4,
 "nbformat_minor": 0
}
