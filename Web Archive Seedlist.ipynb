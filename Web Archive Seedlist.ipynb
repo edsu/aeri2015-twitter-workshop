{
 "cells": [
  {
   "cell_type": "markdown",
   "metadata": {},
   "source": [
    "# Web Archive Seedlist\n",
    "\n",
    "When you are trying to document an event that has been reflected in social media, like #Ferguson or #CharlestonShooting how can you discover Web content that might be useful to collect? One way is to examine what people are talking about in social media, the URLs that they mention, and then use these URLs to create a seed list to use with your web archiving software or ArchiveIt account.\n",
    "\n",
    "The twitter data we collected with Social Feed Manager is gzip compressed, line oriented JSON. Don't worry if this sounds complicated...it just means we have a file where every line in the file is a complete JSON document that represents a tweet, and the file itself is compressed, like a zip file. Luckily Python comes with modules that make it easy to parse JSON and uncompress gzip files. Let's import them:"
   ]
  },
  {
   "cell_type": "code",
   "execution_count": 38,
   "metadata": {
    "collapsed": false
   },
   "outputs": [],
   "source": [
    "import json\n",
    "import gzip"
   ]
  },
  {
   "cell_type": "markdown",
   "metadata": {},
   "source": [
    "We need to open up our file, read in every line, parse the JSON for the tweet, and count how many URLs are present. We're going to use a Python dictionary to keep track of the URLs and the number of times they were found."
   ]
  },
  {
   "cell_type": "code",
   "execution_count": 50,
   "metadata": {
    "collapsed": true
   },
   "outputs": [],
   "source": [
    "def count_urls(filename):\n",
    "    urls = {}\n",
    "    for line in gzip.open(filename, 'rt'):\n",
    "        tweet = json.loads(line)\n",
    "        # ignore data that doesn't have entities, e.g. deletes\n",
    "        if 'entities' not in tweet:\n",
    "            continue\n",
    "        for entity in tweet['entities']['urls']:\n",
    "            url = entity['expanded_url']\n",
    "            urls[url] = urls.get(url, 0) + 1\n",
    "    return urls"
   ]
  },
  {
   "cell_type": "markdown",
   "metadata": {},
   "source": [
    "Let's run our function on a data. If you've got a different dataset that you are woking with feel free to change the path to the file here."
   ]
  },
  {
   "cell_type": "code",
   "execution_count": 54,
   "metadata": {
    "collapsed": false
   },
   "outputs": [],
   "source": [
    "counts = count_urls('data/filters/fakePREMIS/author-mentions.json.gz')"
   ]
  },
  {
   "cell_type": "code",
   "execution_count": 56,
   "metadata": {
    "collapsed": false
   },
   "outputs": [
    {
     "name": "stdout",
     "output_type": "stream",
     "text": [
      "{'http://gogetfunding.com/ms-society-tcep-skydive-event/': 1, 'http://boingboing.net/2015/07/08/u-s-patent-office-cancels-was.html': 28, 'https://youtu.be/DOInXG3VZAU': 1, 'http://imgur.com/kDTbkhS': 1, 'https://twitter.com/yony_themoony/status/614903337838886912': 3, 'https://twitter.com/VRFocus/status/613821447027322880': 1, 'https://twitter.com/caria_pridmore': 1, 'http://inhabitat.com/testicle-eating-fish-return-to-new-jersey/': 1, 'https://vimeo.com/ondemand/conman/132973956': 19, 'https://twitter.com/disinfo/status/619121390982156289': 1, 'https://twitter.com/henryfraser0/status/618523251929686016': 208, 'http://fnd.us/c/810jw4': 1, 'https://soundcloud.com/widerangehum01/anbar-rules?in=widerangehum01/sets/6th-and-callow&utm_source=soundcloud&utm_campaign=share&utm_medium=twitter': 4, 'http://bit.ly/vote-ada': 1, 'http://cnn.it/1G89Dhu': 93, 'http://www.bustle.com/articles/17219-harry-potter-fan-theory-suggests-potter-is-immortal-would-this-be-a-better-ending': 1, 'http://www.themillions.com/2015/07/most-anticipated-the-great-second-half-2015-book-preview.html': 1, 'https://www.indiegogo.com/projects/sensory-house-holidays/x/5531411#/story': 1, 'https://twitter.com/UberFacts/status/619797533506801664': 2, 'https://www.facebook.com/BuzzFeedVideo/videos/1636923793115163/': 1, 'https://twitter.com/nathandorey/status/608562012566773760': 1, 'https://twitter.com/rebeccaheckyea/status/618906960214237184': 1, 'http://www.pressprogress.ca/13_numbers_showing_harper_conservatives_may_truly_be_the_worst_government_ever': 1, 'http://ow.ly/PiYW8': 3, 'http://nyti.ms/1JNfO22': 3, 'http://justsiriusthings.blogspot.in/2015/07/the-deathly-hallows.html?m=1': 1, 'http://ow.ly/PiYLh': 1, 'http://nyti.ms/1GbKMJC': 3, 'https://twitter.com/wewillquackyou/status/616133852428374016': 27, 'https://twitter.com/huffpostukent/status/614372803999993856': 13, 'http://goo.gl/yoYqU': 3, 'http://bit.ly/volibsdon': 1, 'http://boingboing.net/2015/07/07/beastie-boys-rock-hard.html': 1, 'http://bit.ly/1UclVzY': 1, 'http://harpoon2015.ca/topics/science-2/': 1, 'https://twitter.com/fandompatronus/status/588780710447685632': 1, 'http://news.sciencemag.org/archaeology/2015/07/ancient-bobcat-buried-human-being': 1, 'https://crowdfunding.justgiving.com/scottyanderson': 1, 'https://twitter.com/always0romione/status/609750399910825984': 1, 'http://ht.ly/PkjnF': 1, 'https://twitter.com/AttitudeMag/status/601317745788059648': 1, 'http://givealittle.co.nz/cause/choifamily': 1, 'http://www.cbc.ca/1.3143801': 14, 'http://goo.gl/Eavyl': 3, 'https://twitter.com/scotlandnow/status/616169448655859713': 6, 'https://twitter.com/alexmassie/status/614908646825283584': 7, 'http://ow.ly/P8G6W': 220, 'http://bit.ly/1HON9Yo': 1, 'https://twitter.com/unescochairpsu/status/616600290498859008': 3, 'http://kck.st/1QLhX21': 1, 'https://twitter.com/jacobcleary14/status/614905554448678912': 4, 'https://twitter.com/ilikemathandcu/status/618965976890089472': 4, 'http://talkingpointsmemo.com/primary-source/nixon-carbon-dioxide-environment': 15, 'http://pitchfork.com/news/60316-drive-by-truckers-patterson-hood-writes-new-york-times-editorial-condemning-confederate-flag/': 1, 'https://twitter.com/Rob_Z_Tobor/status/611925690246672384': 1, 'http://www.laravisual.com/old-finnish-people-with-things-on-their-heads/': 1, 'https://twitter.com/jr_carpenter/status/619269859885608961': 1, 'http://www.thestranger.com/blogs/slog/2015/07/09/22519858/neo-nazi-dreams-of-the-pacific-northwest-becoming-rhodesia': 8, 'http://qr.ae/76Rcv1': 1, 'http://igg.me/at/ChartedMind/x/6011611': 1, 'http://www.citylab.com/housing/2015/07/mapping-the-us-by-property-value-instead-of-land-area/397841/': 113, 'http://www.gofundme.com/yx468g2a': 1, 'http://www.nytimes.com/2015/07/10/books/review-in-between-the-world-and-me-ta-nehisi-coates-delivers-a-desperate-dispatch-to-his-son.html?&hp&action=click&pgtype=Homepage&module=mini-moth&region=top-stories-below&WT.nav=top-stories-below': 7, 'http://pinterest.com/pin/147211481546676103/': 1, 'https://www.justgiving.com/eveandkaisnightmare/': 1, 'https://twitter.com/Reuters/status/618843489359544320': 1, 'http://www.chroniclelive.co.uk/news/health/newcastle-schoolboy-scott-anderson-life-9605882': 1, 'http://nymag.com/nymetro/news/rnc/9573/': 1, 'https://instagram.com/p/4-XN4CKhHB/': 7, 'http://fb.me/7ggCai80w': 17, 'https://twitter.com/AngusMacNeilSNP/status/611585697191997440': 1, 'https://twitter.com/SagarNeupane16/status/619539601506627584': 38, 'http://www.tssbulletproof.com/optically-clear-aluminum-provides-bulletproof-protection/': 4, 'https://twitter.com/FBAWTFTmovie/status/618873055234912256': 1, 'http://thehill.com/blogs/ballot-box/247250-poll-trump-leads-gop-field-in-north-carolina': 10, 'https://twitter.com/tinkslou/status/614905558701842433': 4, 'http://www.aforceforgood.org.uk/debunk/snpdraft1': 1, 'http://europe.newsweek.com/329965': 16, 'https://twitter.com/maruaders/status/601282519665803264': 1, 'https://twitter.com/ericcullum/status/619122423892283392': 1, 'http://goo.gl/8o3Rmu': 11, 'http://ab.co/1ClHusw': 1, 'https://twitter.com/UberFacts/status/602803072038006784': 3, 'http://bayoubookbytes.blogspot.com/2015/07/not-for-first-time-argument-had-broken.html': 1, 'http://ind.pn/1NeJwux': 1, 'http://bbc.in/1JPVA7S': 9, 'http://www.rense.com/general37/char.htm': 1, 'http://www.edutopia.org/discussion/7-lessons-teachers-dumbledore#': 1, 'http://sfy.co/p0hSq': 1, 'https://twitter.com/fastcodesign/status/619158068614569984': 1, 'https://twitter.com/nbtwt/status/607513428333350912': 1, 'http://m.canberratimes.com.au/act-news/lake-burley-griffins-lost-undertaker-shrouded-in-mystery-20150702-gi1ezu': 1, 'http://hachioji-school.ed.jp/swas/index.php?id=ogt2e': 1, 'https://www.youtube.com/watch?v=0nGfxAAb27U': 1, 'https://twitter.com/brett7three/status/619379615748915200': 1, 'http://www.storyisastateofmind.com': 1, 'https://twitter.com/michaelpainte10/status/611813607215636480': 1, 'https://www.youtube.com/watch?v=WQO-aOdJLiw': 1, 'https://itun.es/us/BaVxe.c?i=342718074': 4, 'https://www.change.org/p/the-northern-ireland-assembly-lets-push-ahead-with-dr-john-hinds-campaign-to-get-an-air-ambulance-off-the-ground-for-northern-ireland-as-he-no-longer-can-a-lasting-tribute-for-an-exceptional-man-rip-doc-hinds#petition-letter': 2, 'https://twitter.com/independent/status/614547951117971456': 8, 'http://bbc.in/1G7MziS': 6, 'http://boingboing.net/2015/07/06/dogsjumpingrope.html': 1, 'https://twitter.com/uberfacts/status/619797533506801664': 2, 'http://bit.ly/1eAz05s': 1, 'http://fb.me/7myhUp1PZ': 2, 'http://ow.ly/OVJea': 2, 'http://pcillu101.blogspot.tw/2015/07/in-2015-will-bill-mckibben-and-robert.html': 1, 'http://www.brainpickings.org/2014/09/24/mary-oliver-reads-wild-geese/': 1, 'https://twitter.com/okwonga/status/613994804498853888': 1, 'https://twitter.com/bbcbreaking/status/614434381688635392': 5, 'http://www.gofundme.com/z3vg2jc': 1, 'https://twitter.com/lumos/status/616899376183689216': 5, 'http://vk.com/club61381039': 1, 'http://www.npr.org/templates/story/story.php?storyId=129324791': 1, 'http://yhwindingroads.wix.com/winding-roads': 1, 'http://bit.ly/1fzVbts': 1, 'http://www.comicbookresources.com/article/sdcc-butch-guice-teams-with-william-gibson-for-idws-archangel': 41, 'https://twitter.com/katesgeckos/status/618973098293891072': 1, 'https://twitter.com/ryanlee502/status/611496795080949760': 1, 'http://bit.ly/SarahUT19': 1, 'http://ind.pn/1NOEi9e': 57, 'http://fus.in/1HMRnkU': 67, 'http://sfist.com/2015/07/08/video_what_apple_thought_the_future.php': 24, 'http://www.washingtonpost.com/politics/jeb-bushs-33-years-of-tax-returns-expected-to-show-increased-wealth/2015/06/30/af8ad598-1f3d-11e5-84d5-eb37ee8eaa61_story.html': 17, 'http://www.dorkly.com/post/61970/harry-potter-as-a-1980s-anime?utm_source=taboola&utm_medium=pod&utm_content=taboola-pod-on-dk-article&utm_campaign=recommendationsutm_source=taboola&utm_medium=pod&utm_content=taboola-pod-in-1x2&utm_campaign=recommendations': 1, 'http://www.esquire.com/news-politics/a36228/ballad-of-the-sad-climatologists-0815/': 6, 'https://twitter.com/alanbissett/status/619556384275869696': 1, 'http://www.courier.co.uk/Tunbridge-Wells-foster-mum-creates-holiday/story-26729950-detail/story.html': 1, 'https://goo.gl/iVgtdF': 2, 'https://twitter.com/EvansAshley11/status/619546941794484224': 1, 'https://www.youtube.com/watch?v=FavUpD_IjVY': 1, 'https://twitter.com/lumos/status/616899654031175680': 6, 'https://twitter.com/Andrewgavinn/status/612358895344947200': 1, 'http://www.nytimes.com/2015/07/12/magazine/spike-nation.html?smprod=nytcore-iphone&smid=nytcore-iphone-share': 1, 'https://twitter.com/1mhugsforholly/status/618748246228344832': 1, 'http://bit.ly/1CpKLag': 20, 'http://boingboing.net/2015/07/07/colorado-achieved-incredible-r.html': 1, 'http://igg.me/at/helping-period': 1, 'http://www.judithvictoriadeer.com/store/p9/Donate_Books.html': 1, 'http://www.alternet.org/news-amp-politics/top-gop-lawyer-absolutely-scorches-ted-cruz-most-graduates-harvard-law-school-know': 1, 'https://twitter.com/legendarythomas/status/614904575519272960': 5, 'http://www.greatbooks.org/feed/?ukjzE': 1, 'https://twitter.com/thefunnyteens/status/571855127847559168': 1, 'http://ow.ly/OU2ki': 1, 'https://www.youtube.com/watch?v=Rz88P6tL9wc&list=PLF48A5F5F0960B9C3&index=23': 1, 'http://adage.com/article/media/study-9-10-americans-binge-viewers/299332/': 5, 'http://bit.ly/1dm36kZ': 9, 'https://twitter.com/TheHPFacts/status/619476433547739136': 1, 'https://twitter.com/potterhead95/status/614904577318617088': 3, 'http://youtu.be/tnWP2Emps1M': 23, 'https://www.youtube.com/watch?v=GRFlR8RhKSg&index=1&list=PL-7OVl8SEba2KyZQc5Jkw8XuhfRTtrL3k': 1, 'https://twitter.com/bravemany/status/611813826829402112': 1, 'http://www.rochester.edu/College/translation/threepercent/index.php?id=15022': 1, 'https://twitter.com/jk_rowling/status/611462801870098432': 1, 'http://qz.com/445330/japan-is-building-solar-energy-plants-on-abandoned-golf-courses-and-the-idea-is-spreading/': 41, 'https://twitter.com/mattboumal/status/604956332861607936': 1, 'https://twitter.com/alinamaite/status/614905579677614082': 10, 'http://www.pressprogress.ca/4_ways_stephen_harper_is_silencing_the_public_service?recruiter_id=126321': 1, 'http://tallscottishteen.blogspot.co.uk/2015/07/top-5-thurday-yankee-candles.html': 1, 'http://acoffeewith.lavazza.com/en/moretotasteOpen': 1, 'http://cyriak.co.uk/blog/': 1, 'http://www.tabletmag.com/jewish-news-and-politics/192073/their-flag-and-ours?utm_source=tabletmagazinelist&utm_campaign=be2f0bf1e9-Wednesday_July_8_20157_8_2015&utm_medium=email&utm_term=0_c308bf8edb-be2f0bf1e9-207079941': 10, 'http://www.nytimes.com/2015/07/11/books/review-harper-lees-go-set-a-watchman-gives-atticus-finch-a-dark-side.html': 6, 'https://twitter.com/matwhi/status/614336624063852544': 3, 'http://nyti.ms/1LWIuoZ': 23, 'http://www.corriere.it/cultura/14_luglio_08/riecco-harry-potter-ha-34-anni-capelli-grigi-nuova-cicatrice-fa3680c6-0696-11e4-addf-a4fb93907d37.shtml': 1, 'http://www.buzzfeed.com/carlanka/10-things-i-hate-about-this-system-we-were-born-into?utm_term=.qp14Z8nM1r': 3, 'http://www.irishtimes.com/news/social-affairs/harry-potter-creator-s-charity-to-fund-research-at-nui-galway-1.2270118': 12, 'https://goo.gl/XODVav': 1, 'http://mic.com/articles/121858/bill-cosby-shows-once-again-we-listen-to-the-wrong-people-when-it-comes-to-sexual-assault?utm_source=policymicTWTR&utm_medium=main&utm_campaign=social': 2, 'https://twitter.com/craigwilliamwil/status/611937608386629632': 3, 'http://sidelinebuzz.com/william-shatner-just-got-into-a-massive-tweet-war/': 1, 'https://twitter.com/fredende/status/610111453769674752': 1, 'http://www.HarryPotterThePlayLondon.com': 3, 'http://www.ebay.co.uk/itm/CHARITY-AUCTION-Harry-Potter-Prisoner-of-Azkaban-1ST-PRINTING-UK-ROWLING-FINE-/121635898672?pt=LH_DefaultDomain_0&hash=item1c52108530': 1, 'http://www.dynastyhaiti.com/download/19539/': 1, 'http://ifunny.co/fun/W5Lm69N43': 1, 'http://theatln.tc/1JLMx82': 1, 'https://twitter.com/mrscrispie/status/615594294733357057': 10, 'http://bit.ly/1UBEzl5': 1, 'http://bit.ly/1TnlAZS': 1, 'http://tinyurl.com/qbvhnnu': 2, 'https://itunes.apple.com/gb/album/somewhere-over-rainbow-tunisia/id1016808027?i=1016808161': 1, 'http://www.littleshopofwriters.org/books.html': 1, 'https://sammace.wordpress.com/2015/07/09/the-left-has-neglected-the-fight-for-human-rights': 1, 'http://ow.ly/NTk4a': 1, 'http://firsttimesinceaugust.tumblr.com/post/123540895371/isis-or-stephen-harper-which-is-the-greatest': 1, 'https://youtube.com/watch?v=u981JhkK46o': 1, 'http://nyti.ms/1HhEz2M': 27, 'http://bbc.in/1MktxLn': 1, 'http://www.amazon.com/s/ref=nb_sb_noss?url=search-alias%3Daps&field-keywords=tomas+trinidad+ebooks&rh=i%3Aaps%2Ck%3Atomas+trinidad+ebooks': 1, 'http://www.pressprogress.ca/conservative_senators_just_passed_anti_union_bill_c377_here_7_reasons_repeal_it?recruiter_id=126321': 1, 'http://nyti.ms/1JTUlVq': 2, 'http://engage.dyingwithdignity.ca/dying_canadians_need_clear_answers_now?recruiter_id=14055': 21, 'https://twitter.com/liltoiletpaper/status/618803293276344320': 4, 'http://bbc.in/1MgM0Z9': 23, 'http://ukhomeguard.com': 1, 'http://bit.ly/future4me': 1, 'http://boingboing.net/2015/07/10/ted-cruz-sore-that-ny-times-wo.html': 3, 'https://twitter.com/flamingpetty/status/619649863689482240': 1, 'https://flic.kr/p/e8W8': 1, 'http://wearelumos.org/news/1617': 1, 'https://twitter.com/marnie7/status/612365131712962560': 1, 'http://boingboing.net/2015/07/08/malfunction-a-nice-animation.html': 1, 'http://bit.ly/1c7nahJ': 1, 'http://www.iccs-ciec.ca': 1, 'https://www.youtube.com/watch?v=jX3iLfcMDCw': 1, 'https://twitter.com/WritersinBMore/status/618884609531494401': 1, 'https://twitter.com/METAKNlGHT/status/595134362854756352': 1, 'https://twitter.com/jk_rowling/status/614902503591800832': 1, 'http://limitlessdrama.blogspot.com/2015/07/dirty-little-bitches-31.html': 1, 'http://www.nasa.gov/feature/new-horizons-map-of-pluto-the-whale-and-the-donut': 1, 'https://www.youtube.com/watch?v=pCC4LkB9wPo&list=': 1, 'http://bbc.in/1UHJZLk': 16, 'https://twitter.com/vijayfido/status/614655645531439104': 6, 'https://twitter.com/RosehillJuniors/status/619572279194857472': 1, 'https://twitter.com/anncoulter/status/614515126813638656': 1, 'https://twitter.com/cnbcworld/status/614901035388133376': 9, 'https://twitter.com/aruntoons/status/604959637671018497': 1, 'https://twitter.com/fyre_flye/status/619737668813914112': 1, 'https://twitter.com/livehead16/status/603336093237252096': 1, 'http://www.cuteworkoutshirt.com/products': 1, 'http://bit.ly/1UbHCAh': 1, 'http://bit.ly/1IJveDg': 1, 'https://twitter.com/rabihalameddine/status/610692072970936320': 1, 'http://limitlessdrama.blogspot.com/2015/07/i-know-your-type-31.html': 1, 'http://ow.ly/PhZaL': 2, 'http://mic.com/articles/121711/who-made-sad-satan-deep-web-horror-game': 1, 'https://twitter.com/silverdoe25/status/614903072360386560': 3}\n"
     ]
    }
   ],
   "source": [
    "print(counts)"
   ]
  },
  {
   "cell_type": "markdown",
   "metadata": {},
   "source": [
    "But that's not the easiest thing to read right? How about we print them out in the order of most tweeted, to see what people are talking about the most?"
   ]
  },
  {
   "cell_type": "code",
   "execution_count": 68,
   "metadata": {
    "collapsed": false
   },
   "outputs": [],
   "source": [
    "urls = sorted(counts, key=counts.get, reverse=True)"
   ]
  },
  {
   "cell_type": "code",
   "execution_count": 69,
   "metadata": {
    "collapsed": false
   },
   "outputs": [
    {
     "name": "stdout",
     "output_type": "stream",
     "text": [
      "http://ow.ly/P8G6W 220\n",
      "https://twitter.com/henryfraser0/status/618523251929686016 208\n",
      "http://www.citylab.com/housing/2015/07/mapping-the-us-by-property-value-instead-of-land-area/397841/ 113\n",
      "http://cnn.it/1G89Dhu 93\n",
      "http://fus.in/1HMRnkU 67\n",
      "http://ind.pn/1NOEi9e 57\n",
      "http://www.comicbookresources.com/article/sdcc-butch-guice-teams-with-william-gibson-for-idws-archangel 41\n",
      "http://qz.com/445330/japan-is-building-solar-energy-plants-on-abandoned-golf-courses-and-the-idea-is-spreading/ 41\n",
      "https://twitter.com/SagarNeupane16/status/619539601506627584 38\n",
      "http://boingboing.net/2015/07/08/u-s-patent-office-cancels-was.html 28\n",
      "https://twitter.com/wewillquackyou/status/616133852428374016 27\n",
      "http://nyti.ms/1HhEz2M 27\n",
      "http://sfist.com/2015/07/08/video_what_apple_thought_the_future.php 24\n",
      "http://youtu.be/tnWP2Emps1M 23\n",
      "http://nyti.ms/1LWIuoZ 23\n",
      "http://bbc.in/1MgM0Z9 23\n",
      "http://engage.dyingwithdignity.ca/dying_canadians_need_clear_answers_now?recruiter_id=14055 21\n",
      "http://bit.ly/1CpKLag 20\n",
      "https://vimeo.com/ondemand/conman/132973956 19\n",
      "http://fb.me/7ggCai80w 17\n",
      "http://www.washingtonpost.com/politics/jeb-bushs-33-years-of-tax-returns-expected-to-show-increased-wealth/2015/06/30/af8ad598-1f3d-11e5-84d5-eb37ee8eaa61_story.html 17\n",
      "http://europe.newsweek.com/329965 16\n",
      "http://bbc.in/1UHJZLk 16\n",
      "http://talkingpointsmemo.com/primary-source/nixon-carbon-dioxide-environment 15\n",
      "http://www.cbc.ca/1.3143801 14\n",
      "https://twitter.com/huffpostukent/status/614372803999993856 13\n",
      "http://www.irishtimes.com/news/social-affairs/harry-potter-creator-s-charity-to-fund-research-at-nui-galway-1.2270118 12\n",
      "http://goo.gl/8o3Rmu 11\n",
      "http://thehill.com/blogs/ballot-box/247250-poll-trump-leads-gop-field-in-north-carolina 10\n",
      "https://twitter.com/alinamaite/status/614905579677614082 10\n",
      "http://www.tabletmag.com/jewish-news-and-politics/192073/their-flag-and-ours?utm_source=tabletmagazinelist&utm_campaign=be2f0bf1e9-Wednesday_July_8_20157_8_2015&utm_medium=email&utm_term=0_c308bf8edb-be2f0bf1e9-207079941 10\n",
      "https://twitter.com/mrscrispie/status/615594294733357057 10\n",
      "http://bbc.in/1JPVA7S 9\n",
      "http://bit.ly/1dm36kZ 9\n",
      "https://twitter.com/cnbcworld/status/614901035388133376 9\n",
      "http://www.thestranger.com/blogs/slog/2015/07/09/22519858/neo-nazi-dreams-of-the-pacific-northwest-becoming-rhodesia 8\n",
      "https://twitter.com/independent/status/614547951117971456 8\n",
      "https://twitter.com/alexmassie/status/614908646825283584 7\n",
      "http://www.nytimes.com/2015/07/10/books/review-in-between-the-world-and-me-ta-nehisi-coates-delivers-a-desperate-dispatch-to-his-son.html?&hp&action=click&pgtype=Homepage&module=mini-moth&region=top-stories-below&WT.nav=top-stories-below 7\n",
      "https://instagram.com/p/4-XN4CKhHB/ 7\n",
      "https://twitter.com/scotlandnow/status/616169448655859713 6\n",
      "http://bbc.in/1G7MziS 6\n",
      "http://www.esquire.com/news-politics/a36228/ballad-of-the-sad-climatologists-0815/ 6\n",
      "https://twitter.com/lumos/status/616899654031175680 6\n",
      "http://www.nytimes.com/2015/07/11/books/review-harper-lees-go-set-a-watchman-gives-atticus-finch-a-dark-side.html 6\n",
      "https://twitter.com/vijayfido/status/614655645531439104 6\n",
      "https://twitter.com/bbcbreaking/status/614434381688635392 5\n",
      "https://twitter.com/lumos/status/616899376183689216 5\n",
      "https://twitter.com/legendarythomas/status/614904575519272960 5\n",
      "http://adage.com/article/media/study-9-10-americans-binge-viewers/299332/ 5\n",
      "https://soundcloud.com/widerangehum01/anbar-rules?in=widerangehum01/sets/6th-and-callow&utm_source=soundcloud&utm_campaign=share&utm_medium=twitter 4\n",
      "https://twitter.com/jacobcleary14/status/614905554448678912 4\n",
      "https://twitter.com/ilikemathandcu/status/618965976890089472 4\n",
      "http://www.tssbulletproof.com/optically-clear-aluminum-provides-bulletproof-protection/ 4\n",
      "https://twitter.com/tinkslou/status/614905558701842433 4\n",
      "https://itun.es/us/BaVxe.c?i=342718074 4\n",
      "https://twitter.com/liltoiletpaper/status/618803293276344320 4\n",
      "https://twitter.com/yony_themoony/status/614903337838886912 3\n",
      "http://ow.ly/PiYW8 3\n",
      "http://nyti.ms/1JNfO22 3\n",
      "http://nyti.ms/1GbKMJC 3\n",
      "http://goo.gl/yoYqU 3\n",
      "http://goo.gl/Eavyl 3\n",
      "https://twitter.com/unescochairpsu/status/616600290498859008 3\n",
      "https://twitter.com/UberFacts/status/602803072038006784 3\n",
      "https://twitter.com/potterhead95/status/614904577318617088 3\n",
      "https://twitter.com/matwhi/status/614336624063852544 3\n",
      "http://www.buzzfeed.com/carlanka/10-things-i-hate-about-this-system-we-were-born-into?utm_term=.qp14Z8nM1r 3\n",
      "https://twitter.com/craigwilliamwil/status/611937608386629632 3\n",
      "http://www.HarryPotterThePlayLondon.com 3\n",
      "http://boingboing.net/2015/07/10/ted-cruz-sore-that-ny-times-wo.html 3\n",
      "https://twitter.com/silverdoe25/status/614903072360386560 3\n",
      "https://twitter.com/UberFacts/status/619797533506801664 2\n",
      "https://www.change.org/p/the-northern-ireland-assembly-lets-push-ahead-with-dr-john-hinds-campaign-to-get-an-air-ambulance-off-the-ground-for-northern-ireland-as-he-no-longer-can-a-lasting-tribute-for-an-exceptional-man-rip-doc-hinds#petition-letter 2\n",
      "https://twitter.com/uberfacts/status/619797533506801664 2\n",
      "http://fb.me/7myhUp1PZ 2\n",
      "http://ow.ly/OVJea 2\n",
      "https://goo.gl/iVgtdF 2\n",
      "http://mic.com/articles/121858/bill-cosby-shows-once-again-we-listen-to-the-wrong-people-when-it-comes-to-sexual-assault?utm_source=policymicTWTR&utm_medium=main&utm_campaign=social 2\n",
      "http://tinyurl.com/qbvhnnu 2\n",
      "http://nyti.ms/1JTUlVq 2\n",
      "http://ow.ly/PhZaL 2\n",
      "http://gogetfunding.com/ms-society-tcep-skydive-event/ 1\n",
      "https://youtu.be/DOInXG3VZAU 1\n",
      "http://imgur.com/kDTbkhS 1\n",
      "https://twitter.com/VRFocus/status/613821447027322880 1\n",
      "https://twitter.com/caria_pridmore 1\n",
      "http://inhabitat.com/testicle-eating-fish-return-to-new-jersey/ 1\n",
      "https://twitter.com/disinfo/status/619121390982156289 1\n",
      "http://fnd.us/c/810jw4 1\n",
      "http://bit.ly/vote-ada 1\n",
      "http://www.bustle.com/articles/17219-harry-potter-fan-theory-suggests-potter-is-immortal-would-this-be-a-better-ending 1\n",
      "http://www.themillions.com/2015/07/most-anticipated-the-great-second-half-2015-book-preview.html 1\n",
      "https://www.indiegogo.com/projects/sensory-house-holidays/x/5531411#/story 1\n",
      "https://www.facebook.com/BuzzFeedVideo/videos/1636923793115163/ 1\n",
      "https://twitter.com/nathandorey/status/608562012566773760 1\n",
      "https://twitter.com/rebeccaheckyea/status/618906960214237184 1\n",
      "http://www.pressprogress.ca/13_numbers_showing_harper_conservatives_may_truly_be_the_worst_government_ever 1\n",
      "http://justsiriusthings.blogspot.in/2015/07/the-deathly-hallows.html?m=1 1\n",
      "http://ow.ly/PiYLh 1\n",
      "http://bit.ly/volibsdon 1\n",
      "http://boingboing.net/2015/07/07/beastie-boys-rock-hard.html 1\n",
      "http://bit.ly/1UclVzY 1\n",
      "http://harpoon2015.ca/topics/science-2/ 1\n",
      "https://twitter.com/fandompatronus/status/588780710447685632 1\n",
      "http://news.sciencemag.org/archaeology/2015/07/ancient-bobcat-buried-human-being 1\n",
      "https://crowdfunding.justgiving.com/scottyanderson 1\n",
      "https://twitter.com/always0romione/status/609750399910825984 1\n",
      "http://ht.ly/PkjnF 1\n",
      "https://twitter.com/AttitudeMag/status/601317745788059648 1\n",
      "http://givealittle.co.nz/cause/choifamily 1\n",
      "http://bit.ly/1HON9Yo 1\n",
      "http://kck.st/1QLhX21 1\n",
      "http://pitchfork.com/news/60316-drive-by-truckers-patterson-hood-writes-new-york-times-editorial-condemning-confederate-flag/ 1\n",
      "https://twitter.com/Rob_Z_Tobor/status/611925690246672384 1\n",
      "http://www.laravisual.com/old-finnish-people-with-things-on-their-heads/ 1\n",
      "https://twitter.com/jr_carpenter/status/619269859885608961 1\n",
      "http://qr.ae/76Rcv1 1\n",
      "http://igg.me/at/ChartedMind/x/6011611 1\n",
      "http://www.gofundme.com/yx468g2a 1\n",
      "http://pinterest.com/pin/147211481546676103/ 1\n",
      "https://www.justgiving.com/eveandkaisnightmare/ 1\n",
      "https://twitter.com/Reuters/status/618843489359544320 1\n",
      "http://www.chroniclelive.co.uk/news/health/newcastle-schoolboy-scott-anderson-life-9605882 1\n",
      "http://nymag.com/nymetro/news/rnc/9573/ 1\n",
      "https://twitter.com/AngusMacNeilSNP/status/611585697191997440 1\n",
      "https://twitter.com/FBAWTFTmovie/status/618873055234912256 1\n",
      "http://www.aforceforgood.org.uk/debunk/snpdraft1 1\n",
      "https://twitter.com/maruaders/status/601282519665803264 1\n",
      "https://twitter.com/ericcullum/status/619122423892283392 1\n",
      "http://ab.co/1ClHusw 1\n",
      "http://bayoubookbytes.blogspot.com/2015/07/not-for-first-time-argument-had-broken.html 1\n",
      "http://ind.pn/1NeJwux 1\n",
      "http://www.rense.com/general37/char.htm 1\n",
      "http://www.edutopia.org/discussion/7-lessons-teachers-dumbledore# 1\n",
      "http://sfy.co/p0hSq 1\n",
      "https://twitter.com/fastcodesign/status/619158068614569984 1\n",
      "https://twitter.com/nbtwt/status/607513428333350912 1\n",
      "http://m.canberratimes.com.au/act-news/lake-burley-griffins-lost-undertaker-shrouded-in-mystery-20150702-gi1ezu 1\n",
      "http://hachioji-school.ed.jp/swas/index.php?id=ogt2e 1\n",
      "https://www.youtube.com/watch?v=0nGfxAAb27U 1\n",
      "https://twitter.com/brett7three/status/619379615748915200 1\n",
      "http://www.storyisastateofmind.com 1\n",
      "https://twitter.com/michaelpainte10/status/611813607215636480 1\n",
      "https://www.youtube.com/watch?v=WQO-aOdJLiw 1\n",
      "http://boingboing.net/2015/07/06/dogsjumpingrope.html 1\n",
      "http://bit.ly/1eAz05s 1\n",
      "http://pcillu101.blogspot.tw/2015/07/in-2015-will-bill-mckibben-and-robert.html 1\n",
      "http://www.brainpickings.org/2014/09/24/mary-oliver-reads-wild-geese/ 1\n",
      "https://twitter.com/okwonga/status/613994804498853888 1\n",
      "http://www.gofundme.com/z3vg2jc 1\n",
      "http://vk.com/club61381039 1\n",
      "http://www.npr.org/templates/story/story.php?storyId=129324791 1\n",
      "http://yhwindingroads.wix.com/winding-roads 1\n",
      "http://bit.ly/1fzVbts 1\n",
      "https://twitter.com/katesgeckos/status/618973098293891072 1\n",
      "https://twitter.com/ryanlee502/status/611496795080949760 1\n",
      "http://bit.ly/SarahUT19 1\n",
      "http://www.dorkly.com/post/61970/harry-potter-as-a-1980s-anime?utm_source=taboola&utm_medium=pod&utm_content=taboola-pod-on-dk-article&utm_campaign=recommendationsutm_source=taboola&utm_medium=pod&utm_content=taboola-pod-in-1x2&utm_campaign=recommendations 1\n",
      "https://twitter.com/alanbissett/status/619556384275869696 1\n",
      "http://www.courier.co.uk/Tunbridge-Wells-foster-mum-creates-holiday/story-26729950-detail/story.html 1\n",
      "https://twitter.com/EvansAshley11/status/619546941794484224 1\n",
      "https://www.youtube.com/watch?v=FavUpD_IjVY 1\n",
      "https://twitter.com/Andrewgavinn/status/612358895344947200 1\n",
      "http://www.nytimes.com/2015/07/12/magazine/spike-nation.html?smprod=nytcore-iphone&smid=nytcore-iphone-share 1\n",
      "https://twitter.com/1mhugsforholly/status/618748246228344832 1\n",
      "http://boingboing.net/2015/07/07/colorado-achieved-incredible-r.html 1\n",
      "http://igg.me/at/helping-period 1\n",
      "http://www.judithvictoriadeer.com/store/p9/Donate_Books.html 1\n",
      "http://www.alternet.org/news-amp-politics/top-gop-lawyer-absolutely-scorches-ted-cruz-most-graduates-harvard-law-school-know 1\n",
      "http://www.greatbooks.org/feed/?ukjzE 1\n",
      "https://twitter.com/thefunnyteens/status/571855127847559168 1\n",
      "http://ow.ly/OU2ki 1\n",
      "https://www.youtube.com/watch?v=Rz88P6tL9wc&list=PLF48A5F5F0960B9C3&index=23 1\n",
      "https://twitter.com/TheHPFacts/status/619476433547739136 1\n",
      "https://www.youtube.com/watch?v=GRFlR8RhKSg&index=1&list=PL-7OVl8SEba2KyZQc5Jkw8XuhfRTtrL3k 1\n",
      "https://twitter.com/bravemany/status/611813826829402112 1\n",
      "http://www.rochester.edu/College/translation/threepercent/index.php?id=15022 1\n",
      "https://twitter.com/jk_rowling/status/611462801870098432 1\n",
      "https://twitter.com/mattboumal/status/604956332861607936 1\n",
      "http://www.pressprogress.ca/4_ways_stephen_harper_is_silencing_the_public_service?recruiter_id=126321 1\n",
      "http://tallscottishteen.blogspot.co.uk/2015/07/top-5-thurday-yankee-candles.html 1\n",
      "http://acoffeewith.lavazza.com/en/moretotasteOpen 1\n",
      "http://cyriak.co.uk/blog/ 1\n",
      "http://www.corriere.it/cultura/14_luglio_08/riecco-harry-potter-ha-34-anni-capelli-grigi-nuova-cicatrice-fa3680c6-0696-11e4-addf-a4fb93907d37.shtml 1\n",
      "https://goo.gl/XODVav 1\n",
      "http://sidelinebuzz.com/william-shatner-just-got-into-a-massive-tweet-war/ 1\n",
      "https://twitter.com/fredende/status/610111453769674752 1\n",
      "http://www.ebay.co.uk/itm/CHARITY-AUCTION-Harry-Potter-Prisoner-of-Azkaban-1ST-PRINTING-UK-ROWLING-FINE-/121635898672?pt=LH_DefaultDomain_0&hash=item1c52108530 1\n",
      "http://www.dynastyhaiti.com/download/19539/ 1\n",
      "http://ifunny.co/fun/W5Lm69N43 1\n",
      "http://theatln.tc/1JLMx82 1\n",
      "http://bit.ly/1UBEzl5 1\n",
      "http://bit.ly/1TnlAZS 1\n",
      "https://itunes.apple.com/gb/album/somewhere-over-rainbow-tunisia/id1016808027?i=1016808161 1\n",
      "http://www.littleshopofwriters.org/books.html 1\n",
      "https://sammace.wordpress.com/2015/07/09/the-left-has-neglected-the-fight-for-human-rights 1\n",
      "http://ow.ly/NTk4a 1\n",
      "http://firsttimesinceaugust.tumblr.com/post/123540895371/isis-or-stephen-harper-which-is-the-greatest 1\n",
      "https://youtube.com/watch?v=u981JhkK46o 1\n",
      "http://bbc.in/1MktxLn 1\n",
      "http://www.amazon.com/s/ref=nb_sb_noss?url=search-alias%3Daps&field-keywords=tomas+trinidad+ebooks&rh=i%3Aaps%2Ck%3Atomas+trinidad+ebooks 1\n",
      "http://www.pressprogress.ca/conservative_senators_just_passed_anti_union_bill_c377_here_7_reasons_repeal_it?recruiter_id=126321 1\n",
      "http://ukhomeguard.com 1\n",
      "http://bit.ly/future4me 1\n",
      "https://twitter.com/flamingpetty/status/619649863689482240 1\n",
      "https://flic.kr/p/e8W8 1\n",
      "http://wearelumos.org/news/1617 1\n",
      "https://twitter.com/marnie7/status/612365131712962560 1\n",
      "http://boingboing.net/2015/07/08/malfunction-a-nice-animation.html 1\n",
      "http://bit.ly/1c7nahJ 1\n",
      "http://www.iccs-ciec.ca 1\n",
      "https://www.youtube.com/watch?v=jX3iLfcMDCw 1\n",
      "https://twitter.com/WritersinBMore/status/618884609531494401 1\n",
      "https://twitter.com/METAKNlGHT/status/595134362854756352 1\n",
      "https://twitter.com/jk_rowling/status/614902503591800832 1\n",
      "http://limitlessdrama.blogspot.com/2015/07/dirty-little-bitches-31.html 1\n",
      "http://www.nasa.gov/feature/new-horizons-map-of-pluto-the-whale-and-the-donut 1\n",
      "https://www.youtube.com/watch?v=pCC4LkB9wPo&list= 1\n",
      "https://twitter.com/RosehillJuniors/status/619572279194857472 1\n",
      "https://twitter.com/anncoulter/status/614515126813638656 1\n",
      "https://twitter.com/aruntoons/status/604959637671018497 1\n",
      "https://twitter.com/fyre_flye/status/619737668813914112 1\n",
      "https://twitter.com/livehead16/status/603336093237252096 1\n",
      "http://www.cuteworkoutshirt.com/products 1\n",
      "http://bit.ly/1UbHCAh 1\n",
      "http://bit.ly/1IJveDg 1\n",
      "https://twitter.com/rabihalameddine/status/610692072970936320 1\n",
      "http://limitlessdrama.blogspot.com/2015/07/i-know-your-type-31.html 1\n",
      "http://mic.com/articles/121711/who-made-sad-satan-deep-web-horror-game 1\n"
     ]
    }
   ],
   "source": [
    "for url in urls:\n",
    "    print(url, counts[url])"
   ]
  },
  {
   "cell_type": "code",
   "execution_count": null,
   "metadata": {
    "collapsed": true
   },
   "outputs": [],
   "source": []
  }
 ],
 "metadata": {
  "kernelspec": {
   "display_name": "Python 3",
   "language": "python",
   "name": "python3"
  },
  "language_info": {
   "codemirror_mode": {
    "name": "ipython",
    "version": 3
   },
   "file_extension": ".py",
   "mimetype": "text/x-python",
   "name": "python",
   "nbconvert_exporter": "python",
   "pygments_lexer": "ipython3",
   "version": "3.4.0"
  }
 },
 "nbformat": 4,
 "nbformat_minor": 0
}
