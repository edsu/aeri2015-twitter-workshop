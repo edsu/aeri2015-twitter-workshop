{
 "cells": [
  {
   "cell_type": "code",
   "execution_count": 1,
   "metadata": {
    "collapsed": true
   },
   "outputs": [],
   "source": [
    "import gzip\n",
    "import json"
   ]
  },
  {
   "cell_type": "code",
   "execution_count": 6,
   "metadata": {
    "collapsed": true
   },
   "outputs": [],
   "source": [
    "filepath = 'data/filters/fakePREMIS/author-mentions.json.gz'"
   ]
  },
  {
   "cell_type": "code",
   "execution_count": 7,
   "metadata": {
    "collapsed": false
   },
   "outputs": [],
   "source": [
    "deleted = []\n",
    "with gzip.open(filepath,'rt') as f:\n",
    "    for line in f:\n",
    "        tweet = json.loads(line)\n",
    "        if 'delete' in tweet:\n",
    "            deleted.append(tweet)\n",
    "        "
   ]
  },
  {
   "cell_type": "code",
   "execution_count": 9,
   "metadata": {
    "collapsed": false
   },
   "outputs": [
    {
     "data": {
      "text/plain": [
       "15"
      ]
     },
     "execution_count": 9,
     "metadata": {},
     "output_type": "execute_result"
    }
   ],
   "source": [
    "len(deleted)"
   ]
  },
  {
   "cell_type": "code",
   "execution_count": 22,
   "metadata": {
    "collapsed": false
   },
   "outputs": [
    {
     "data": {
      "text/plain": [
       "[{'delete': {'status': {'id': 619815099587497984,\n",
       "    'id_str': '619815099587497984',\n",
       "    'user_id': 62513246,\n",
       "    'user_id_str': '62513246'},\n",
       "   'timestamp_ms': '1436610410538'}},\n",
       " {'delete': {'status': {'id': 619815102158667776,\n",
       "    'id_str': '619815102158667776',\n",
       "    'user_id': 62513246,\n",
       "    'user_id_str': '62513246'},\n",
       "   'timestamp_ms': '1436610411452'}},\n",
       " {'delete': {'status': {'id': 619815105803493376,\n",
       "    'id_str': '619815105803493376',\n",
       "    'user_id': 62513246,\n",
       "    'user_id_str': '62513246'},\n",
       "   'timestamp_ms': '1436610412430'}},\n",
       " {'delete': {'status': {'id': 619815112162037760,\n",
       "    'id_str': '619815112162037760',\n",
       "    'user_id': 62513246,\n",
       "    'user_id_str': '62513246'},\n",
       "   'timestamp_ms': '1436610413686'}},\n",
       " {'delete': {'status': {'id': 618882878819045376,\n",
       "    'id_str': '618882878819045376',\n",
       "    'user_id': 28049003,\n",
       "    'user_id_str': '28049003'},\n",
       "   'timestamp_ms': '1436388993930'}}]"
      ]
     },
     "execution_count": 22,
     "metadata": {},
     "output_type": "execute_result"
    }
   ],
   "source": [
    "deleted[10:15]"
   ]
  },
  {
   "cell_type": "code",
   "execution_count": 24,
   "metadata": {
    "collapsed": false
   },
   "outputs": [
    {
     "data": {
      "text/plain": [
       "{'contributors': None,\n",
       " 'coordinates': None,\n",
       " 'created_at': 'Wed Jul 08 20:42:31 +0000 2015',\n",
       " 'entities': {'hashtags': [],\n",
       "  'symbols': [],\n",
       "  'trends': [],\n",
       "  'urls': [{'display_url': 'youtu.be/tnWP2Emps1M',\n",
       "    'expanded_url': 'http://youtu.be/tnWP2Emps1M',\n",
       "    'indices': [21, 43],\n",
       "    'url': 'http://t.co/BFNZ4rV5xP'}],\n",
       "  'user_mentions': []},\n",
       " 'favorite_count': 0,\n",
       " 'favorited': False,\n",
       " 'filter_level': 'low',\n",
       " 'geo': None,\n",
       " 'id': 618882878819045376,\n",
       " 'id_str': '618882878819045376',\n",
       " 'in_reply_to_screen_name': None,\n",
       " 'in_reply_to_status_id': None,\n",
       " 'in_reply_to_status_id_str': None,\n",
       " 'in_reply_to_user_id': None,\n",
       " 'in_reply_to_user_id_str': None,\n",
       " 'lang': 'en',\n",
       " 'place': None,\n",
       " 'possibly_sensitive': False,\n",
       " 'retweet_count': 0,\n",
       " 'retweeted': False,\n",
       " 'source': '<a href=\"http://www.apple.com\" rel=\"nofollow\">iOS</a>',\n",
       " 'text': 'malfunction - Curial http://t.co/BFNZ4rV5xP',\n",
       " 'timestamp_ms': '1436388151255',\n",
       " 'truncated': False,\n",
       " 'user': {'contributors_enabled': False,\n",
       "  'created_at': 'Wed Apr 01 04:17:37 +0000 2009',\n",
       "  'default_profile': False,\n",
       "  'default_profile_image': False,\n",
       "  'description': None,\n",
       "  'favourites_count': 146,\n",
       "  'follow_request_sent': None,\n",
       "  'followers_count': 171557,\n",
       "  'following': None,\n",
       "  'friends_count': 171,\n",
       "  'geo_enabled': False,\n",
       "  'id': 28049003,\n",
       "  'id_str': '28049003',\n",
       "  'is_translator': False,\n",
       "  'lang': 'en',\n",
       "  'listed_count': 7630,\n",
       "  'location': 'Vancouver',\n",
       "  'name': 'William Gibson',\n",
       "  'notifications': None,\n",
       "  'profile_background_color': '9AE4E8',\n",
       "  'profile_background_image_url': 'http://pbs.twimg.com/profile_background_images/9965636/WW_Surveillance_31.jpg',\n",
       "  'profile_background_image_url_https': 'https://pbs.twimg.com/profile_background_images/9965636/WW_Surveillance_31.jpg',\n",
       "  'profile_background_tile': True,\n",
       "  'profile_banner_url': 'https://pbs.twimg.com/profile_banners/28049003/1419991699',\n",
       "  'profile_image_url': 'http://pbs.twimg.com/profile_images/378800000678442069/f00111192cb14d8e709342a29540b7a0_normal.jpeg',\n",
       "  'profile_image_url_https': 'https://pbs.twimg.com/profile_images/378800000678442069/f00111192cb14d8e709342a29540b7a0_normal.jpeg',\n",
       "  'profile_link_color': '0084B4',\n",
       "  'profile_sidebar_border_color': '4AA31A',\n",
       "  'profile_sidebar_fill_color': 'BFA48D',\n",
       "  'profile_text_color': '333333',\n",
       "  'profile_use_background_image': False,\n",
       "  'protected': False,\n",
       "  'screen_name': 'GreatDismal',\n",
       "  'statuses_count': 49960,\n",
       "  'time_zone': 'Pacific Time (US & Canada)',\n",
       "  'url': 'http://www.williamgibsonbooks.com/index.asp',\n",
       "  'utc_offset': -25200,\n",
       "  'verified': True}}"
      ]
     },
     "execution_count": 24,
     "metadata": {},
     "output_type": "execute_result"
    }
   ],
   "source": [
    "\n",
    "with gzip.open(filepath,'rt') as f:\n",
    "    for line in f:\n",
    "        tweet = json.loads(line)\n",
    "        try:\n",
    "            if tweet['id_str'] == '618882878819045376':\n",
    "                deleted_tweet = tweet\n",
    "        except:\n",
    "            continue\n",
    "            \n",
    "deleted_tweet"
   ]
  },
  {
   "cell_type": "code",
   "execution_count": null,
   "metadata": {
    "collapsed": true
   },
   "outputs": [],
   "source": []
  }
 ],
 "metadata": {
  "kernelspec": {
   "display_name": "Python 3",
   "language": "python",
   "name": "python3"
  },
  "language_info": {
   "codemirror_mode": {
    "name": "ipython",
    "version": 3
   },
   "file_extension": ".py",
   "mimetype": "text/x-python",
   "name": "python",
   "nbconvert_exporter": "python",
   "pygments_lexer": "ipython3",
   "version": "3.4.0"
  }
 },
 "nbformat": 4,
 "nbformat_minor": 0
}
