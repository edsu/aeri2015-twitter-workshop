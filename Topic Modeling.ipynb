{
 "cells": [
  {
   "cell_type": "code",
   "execution_count": 2,
   "metadata": {
    "collapsed": false
   },
   "outputs": [
    {
     "ename": "ImportError",
     "evalue": "No module named 'gensim'",
     "output_type": "error",
     "traceback": [
      "\u001b[1;31m---------------------------------------------------------------------------\u001b[0m",
      "\u001b[1;31mImportError\u001b[0m                               Traceback (most recent call last)",
      "\u001b[1;32m<ipython-input-2-af7f3e8c17c9>\u001b[0m in \u001b[0;36m<module>\u001b[1;34m()\u001b[0m\n\u001b[0;32m      5\u001b[0m \u001b[1;32mimport\u001b[0m \u001b[0margparse\u001b[0m\u001b[1;33m\u001b[0m\u001b[0m\n\u001b[0;32m      6\u001b[0m \u001b[1;33m\u001b[0m\u001b[0m\n\u001b[1;32m----> 7\u001b[1;33m \u001b[1;32mfrom\u001b[0m \u001b[0mgensim\u001b[0m \u001b[1;32mimport\u001b[0m \u001b[0mcorpora\u001b[0m\u001b[1;33m,\u001b[0m \u001b[0mmodels\u001b[0m\u001b[1;33m,\u001b[0m \u001b[0msimilarities\u001b[0m\u001b[1;33m\u001b[0m\u001b[0m\n\u001b[0m\u001b[0;32m      8\u001b[0m \u001b[1;33m\u001b[0m\u001b[0m\n\u001b[0;32m      9\u001b[0m \u001b[0mpunctuation\u001b[0m \u001b[1;33m=\u001b[0m \u001b[0mset\u001b[0m\u001b[1;33m(\u001b[0m\u001b[0mstring\u001b[0m\u001b[1;33m.\u001b[0m\u001b[0mpunctuation\u001b[0m\u001b[1;33m)\u001b[0m\u001b[1;33m\u001b[0m\u001b[0m\n",
      "\u001b[1;31mImportError\u001b[0m: No module named 'gensim'"
     ]
    }
   ],
   "source": [
    "import os\n",
    "import re\n",
    "import json\n",
    "import string\n",
    "import argparse\n",
    "\n",
    "from gensim import corpora, models, similarities\n",
    "\n",
    "punctuation = set(string.punctuation)\n",
    "\n",
    "def docs():\n",
    "    stop_words = get_stop_words('stopwords.txt')\n",
    "    for line in open(\"tweets.json\"):\n",
    "        tweet = json.loads(line)\n",
    "        if not 'retweeted_status' in tweet and tweet['lang'] == 'en':\n",
    "            yield words(tweet['text'], stop_words)\n",
    "\n",
    "def words(s, stop_words):\n",
    "    words = s.lower().split(' ')\n",
    "    new_words = []\n",
    "    for word in words:\n",
    "        word = word.strip()\n",
    "        if not word:\n",
    "            continue\n",
    "        if word in stop_words:\n",
    "            continue\n",
    "        if re.match(r'^(@|\\#|http)', word):\n",
    "            continue\n",
    "        if len(word) < 4:\n",
    "            continue\n",
    "\n",
    "        word = ''.join(ch for ch in word if ch not in punctuation)\n",
    "        new_words.append(word)\n",
    "    return new_words\n",
    "\n",
    "def get_stop_words(path):\n",
    "    stops = {}\n",
    "    for word in open('stop_words.txt'):\n",
    "        word = word.strip().lower()\n",
    "        stops[word] = True\n",
    "    return stops\n",
    "\n",
    "def get_dictionary(path):\n",
    "    if not os.path.isfile(path):\n",
    "        dictionary = corpora.Dictionary(docs())\n",
    "        dictionary.save(path)\n",
    "    else:\n",
    "        dictionary = corpora.Dictionary.load(path)\n",
    "    return dictionary\n",
    "\n",
    "def get_corpus(path, dictionary):\n",
    "    def ids():\n",
    "        for doc in docs():\n",
    "            yield dictionary.doc2bow(doc)\n",
    "    if not os.path.isfile(path):\n",
    "        corpus = corpora.MmCorpus.serialize(path, ids())\n",
    "    else:\n",
    "        corpus = corpora.MmCorpus(path)\n",
    "    return corpus\n",
    "\n",
    "def main():\n",
    "    parser = argparse.ArgumentParser(description=\"topic model some tweets\")\n",
    "    parser.add_argument('--num_topics', type=int, help='number of topics', default=20)\n",
    "    parser.add_argument('--num_words', type=int, help='number of words', default=20)\n",
    "    args = parser.parse_args()\n",
    "\n",
    "    dictionary = get_dictionary(\"topics.dict\")\n",
    "    corpus = get_corpus(\"topics.mm\", dictionary)\n",
    "    lda = models.ldamodel.LdaModel(corpus, id2word=dictionary, num_topics=args.num_topics)\n",
    "\n",
    "    count = 0\n",
    "    for topic in lda.show_topics(num_topics=args.num_topics, num_words=args.num_words, formatted=False):\n",
    "        count += 1 \n",
    "        print(\"topic #%i\" % count)\n",
    "        print(', '.join(t[1] for t in topic).encode('utf8'))\n",
    "        print()\n"
   ]
  },
  {
   "cell_type": "code",
   "execution_count": null,
   "metadata": {
    "collapsed": true
   },
   "outputs": [],
   "source": []
  }
 ],
 "metadata": {
  "kernelspec": {
   "display_name": "Python 3",
   "language": "python",
   "name": "python3"
  },
  "language_info": {
   "codemirror_mode": {
    "name": "ipython",
    "version": 3
   },
   "file_extension": ".py",
   "mimetype": "text/x-python",
   "name": "python",
   "nbconvert_exporter": "python",
   "pygments_lexer": "ipython3",
   "version": "3.4.0"
  }
 },
 "nbformat": 4,
 "nbformat_minor": 0
}
