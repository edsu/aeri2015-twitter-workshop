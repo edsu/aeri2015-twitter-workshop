{
 "cells": [
  {
   "cell_type": "markdown",
   "metadata": {},
   "source": [
    "## A Gentle (Pythonic) Introduction to JSON \n",
    "\n",
    "Programming languages have lots of ways of representing data called \n",
    "*data structures*. Very often you want to flatten, or *serialize* these \n",
    "data structures so that they can be transmitted over the network or stored \n",
    "in a file for later. In the old days, you'd invent a file format of your own \n",
    "devising to do this and write the different bits of your data structure \n",
    "into the file format. But that's an expensive way of doing things and very \n",
    "error prone. \n",
    "\n",
    "Most modern languages have a way of automatically serialising data structures, \n",
    "and the one used by JavaScript took off in a big way, probably because it is \n",
    "very simple to understand and use, and is embedded in every Web browser. \n",
    "Conveniently in your case, it's also very similar to the way things are done \n",
    "natively in Python. This format is called JavaScript Object Notation or [JSON](https://en.wikipedia.org/wiki/JSON) for short.\n",
    "\n",
    "You really only need to know about two types of structure to understand JSON. \n",
    "In Python parlance these are [lists](https://docs.python.org/2/tutorial/datastructures.html#more-on-lists) and [dictionaries](https://docs.python.org/2/tutorial/datastructures.html#dictionaries), and they are both \n",
    "built in to the language itself. The same is true of other programming \n",
    "languages, like Ruby, Perl, PHP, Java and (of course) JavaScript.\n",
    "\n",
    "### Lists\n",
    "\n",
    "A list is a container into which you can put other things, knowing that their \n",
    "order will be preserved. For example if I wrote:"
   ]
  },
  {
   "cell_type": "code",
   "execution_count": 2,
   "metadata": {
    "collapsed": true
   },
   "outputs": [],
   "source": [
    "numbers = [1, 2, 10]"
   ]
  },
  {
   "cell_type": "markdown",
   "metadata": {},
   "source": [
    "I would create a list named `numbers` that contains the integers 1, 2 and 10 \n",
    "in that order. Python will never re-arrange a list, you can guarantee the \n",
    "order stays the same unless you manipulate it yourself. \n",
    "\n",
    "You can pretty much have anything you like in a list. For example this"
   ]
  },
  {
   "cell_type": "code",
   "execution_count": 3,
   "metadata": {
    "collapsed": true
   },
   "outputs": [],
   "source": [
    "things = [1, \"dog\", 4.5]"
   ]
  },
  {
   "cell_type": "markdown",
   "metadata": {},
   "source": [
    "creates a list named `things` that contains the integer `1`, the string `dog` \n",
    "and the real number `4.5`. \n",
    "\n",
    "### Dictionaries\n",
    "\n",
    "The next thing you need to know about is a dictionary. A dictionary makes an \n",
    "association between a *key* and a *value*. It's like a mini-database where you \n",
    "can put stuff in, give it a unique identifier, and then use that identifier \n",
    "later to retrieve it. For example, a dictionary called `ages` containing \n",
    "people's ages might look like:"
   ]
  },
  {
   "cell_type": "code",
   "execution_count": 4,
   "metadata": {
    "collapsed": true
   },
   "outputs": [],
   "source": [
    "ages = { \"Anne\" : 34, \"Bob\" : 29, \"Alex\" : 15 }"
   ]
  },
  {
   "cell_type": "markdown",
   "metadata": {},
   "source": [
    "If you want you can make this a bit more readable by using multiple lines:"
   ]
  },
  {
   "cell_type": "code",
   "execution_count": 5,
   "metadata": {
    "collapsed": true
   },
   "outputs": [],
   "source": [
    "ages = {\n",
    "  \"Anne\" : 34,\n",
    "  \"Bob\" : 29,\n",
    "  \"Alex\" : 15 \n",
    "}"
   ]
  },
  {
   "cell_type": "markdown",
   "metadata": {},
   "source": [
    "This dictionary contains three entries, one with the key `Anne` and the value \n",
    "`34`, one with the key `Bob` and the value `29`, and a third with the key `Alex` \n",
    "and the value `15`.\n",
    "\n",
    "So you can print out Anne's age:"
   ]
  },
  {
   "cell_type": "code",
   "execution_count": 6,
   "metadata": {
    "collapsed": false
   },
   "outputs": [
    {
     "name": "stdout",
     "output_type": "stream",
     "text": [
      "34\n"
     ]
    }
   ],
   "source": [
    "print(ages['Anne'])"
   ]
  },
  {
   "cell_type": "markdown",
   "metadata": {},
   "source": [
    "### Composing Lists and Dictionaries\n",
    "\n",
    "To make things a bit more interesting (and expressive) you can put lists and \n",
    "dictionaries inside one another. So you could have a list containing \n",
    "dictionaries, or a dictionary where each value is a list and so on. \n",
    "\n",
    "This turns out to be a fairly generic way of flattening complex data \n",
    "structures, and it's exactly what JSON is based on. JSON actually uses a \n",
    "notation that's very similar (I think perhaps even identical) to the way that \n",
    "Python displays lists and dictionaries, so if you're familiar with one you can \n",
    "read the other. \n",
    "\n",
    "So let's imagine I want to represent a *person*. I can create a dictionary \n",
    "with specific keys and values. Something like..."
   ]
  },
  {
   "cell_type": "code",
   "execution_count": 7,
   "metadata": {
    "collapsed": true
   },
   "outputs": [],
   "source": [
    "person1 = { \n",
    "  \"name\": \"Anne\",\n",
    "  \"age\": 34, \n",
    "  \"shoesize\": 6\n",
    "}"
   ]
  },
  {
   "cell_type": "markdown",
   "metadata": {},
   "source": [
    "and maybe a second person:"
   ]
  },
  {
   "cell_type": "code",
   "execution_count": 9,
   "metadata": {
    "collapsed": false
   },
   "outputs": [],
   "source": [
    "person2 = { \n",
    "  \"name\": \"Bob\",\n",
    "  \"age\": 29, \n",
    "  \"shoesize\": 11\n",
    "}"
   ]
  },
  {
   "cell_type": "markdown",
   "metadata": {},
   "source": [
    "I could now put these two people into a list"
   ]
  },
  {
   "cell_type": "code",
   "execution_count": 10,
   "metadata": {
    "collapsed": true
   },
   "outputs": [],
   "source": [
    "people = [person1, person2]"
   ]
  },
  {
   "cell_type": "markdown",
   "metadata": {},
   "source": [
    "### JSON\n",
    "\n",
    "What might the list `people` look like if I wrote it out in long hand? It \n",
    "would contain two dictionaries, `person1` and `person2`, and each of those \n",
    "would have three keys called `name`, `age` and `shoesize` associated with \n",
    "their respective values. If I wrote the whole thing out longhand in Python \n",
    "notation, it would look like this:\n",
    "\n",
    "```python\n",
    "[\n",
    "  { \n",
    "    \"name\": \"Anne\",\n",
    "    \"age\": 34,\n",
    "    \"shoesize\": 6\n",
    "  },\n",
    "  {\n",
    "    \"name\": \"Bob\",\n",
    "    \"age\": 29,\n",
    "    \"shoesize\": 11\n",
    "  }\n",
    "]```"
   ]
  },
  {
   "cell_type": "markdown",
   "metadata": {},
   "source": [
    "And that conveniently happens to be JSON notation too! That’s all JSON really \n",
    "is: a convenient way of describing data structures as combinations of \n",
    "(what in Python we would call) dictionaries and lists so they can be saved \n",
    "into files or transmitted over communications links (e.g. over the web or \n",
    "between applications).\n",
    "\n",
    "[lists]: https://docs.python.org/2/tutorial/datastructures.html#more-on-lists\n",
    "[dictionaries]: https://docs.python.org/2/tutorial/datastructures.html#dictionaries\n",
    "[JSON]: https://en.wikipedia.org/wiki/JSON"
   ]
  },
  {
   "cell_type": "markdown",
   "metadata": {},
   "source": [
    "### Reading and Writing JSON\n",
    "\n",
    "Python also conveniently comes with a [json](https://docs.python.org/3/library/json.html) module, that makes it easy to read and write JSON. First you need to import it:"
   ]
  },
  {
   "cell_type": "code",
   "execution_count": 7,
   "metadata": {
    "collapsed": false
   },
   "outputs": [],
   "source": [
    "import json"
   ]
  },
  {
   "cell_type": "markdown",
   "metadata": {},
   "source": [
    "And then you can *serialize* your Python data structures easily as JSON, using the `dumps` function:"
   ]
  },
  {
   "cell_type": "code",
   "execution_count": 10,
   "metadata": {
    "collapsed": false
   },
   "outputs": [
    {
     "name": "stdout",
     "output_type": "stream",
     "text": [
      "{\"age\": 34, \"name\": \"Anne\", \"shoesize\": 6}\n"
     ]
    }
   ],
   "source": [
    "person = {\"name\": \"Anne\", \"age\": 34, \"shoesize\": 6}\n",
    "json_text = json.dumps(person)\n",
    "print(json_text)"
   ]
  },
  {
   "cell_type": "markdown",
   "metadata": {},
   "source": [
    "If you want you can choose to serialize it in a pretty format using linebreaks and indentation:"
   ]
  },
  {
   "cell_type": "code",
   "execution_count": 12,
   "metadata": {
    "collapsed": false
   },
   "outputs": [
    {
     "name": "stdout",
     "output_type": "stream",
     "text": [
      "{\n",
      "  \"age\": 34,\n",
      "  \"name\": \"Anne\",\n",
      "  \"shoesize\": 6\n",
      "}\n"
     ]
    }
   ],
   "source": [
    "json_text = json.dumps(person, indent=2)\n",
    "print(json_text)"
   ]
  },
  {
   "cell_type": "markdown",
   "metadata": {},
   "source": [
    "And once you have the text you can *parse* it back into Python again with the *loads* function:"
   ]
  },
  {
   "cell_type": "code",
   "execution_count": 13,
   "metadata": {
    "collapsed": false
   },
   "outputs": [
    {
     "name": "stdout",
     "output_type": "stream",
     "text": [
      "{'age': 34, 'name': 'Anne', 'shoesize': 6}\n"
     ]
    }
   ],
   "source": [
    "person = json.loads(json_text)\n",
    "print(person)"
   ]
  },
  {
   "cell_type": "markdown",
   "metadata": {},
   "source": [
    "Since you can serialize and parse JSON using strings you can also save them to files and read them back later, or send them over the network, which is what a great deal of [Web APIs](https://en.wikipedia.org/wiki/Web_API) do."
   ]
  },
  {
   "cell_type": "markdown",
   "metadata": {
    "collapsed": true
   },
   "source": [
    "### Tweets\n",
    "\n",
    "Twitter makes each tweet available as JSON using its [API](https://dev.twitter.com/overview/documentation). Their field guide provides a very good overview of the data you can find for each tweet. The text of each tweet is actually only about 2% of all the data in a tweet.\n",
    "\n",
    "Here is a particular (famous) tweet:"
   ]
  },
  {
   "cell_type": "code",
   "execution_count": 3,
   "metadata": {
    "collapsed": false
   },
   "outputs": [
    {
     "data": {
      "text/html": [
       "\n",
       "<blockquote class=\"twitter-tweet\" lang=\"en\"><p lang=\"en\" dir=\"ltr\">Wow...A man picks up burning tear gas can and throws it back at police. <a href=\"https://twitter.com/hashtag/ferguson?src=hash\">#ferguson</a> pic by <a href=\"https://twitter.com/kodacohen\">@kodacohen</a> <a href=\"https://twitter.com/stltoday\">@stltoday</a> <a href=\"http://t.co/SASXU1yF3E\">pic.twitter.com/SASXU1yF3E</a></p>&mdash; Lynden Steele (@manofsteele) <a href=\"https://twitter.com/manofsteele/status/499432557906104320\">August 13, 2014</a></blockquote>\n",
       "<script async src=\"//platform.twitter.com/widgets.js\" charset=\"utf-8\"></script>"
      ],
      "text/plain": [
       "<IPython.core.display.HTML object>"
      ]
     },
     "metadata": {},
     "output_type": "display_data"
    }
   ],
   "source": [
    "%%HTML\n",
    "\n",
    "<blockquote class=\"twitter-tweet\" lang=\"en\"><p lang=\"en\" dir=\"ltr\">Wow...A man picks up burning tear gas can and throws it back at police. <a href=\"https://twitter.com/hashtag/ferguson?src=hash\">#ferguson</a> pic by <a href=\"https://twitter.com/kodacohen\">@kodacohen</a> <a href=\"https://twitter.com/stltoday\">@stltoday</a> <a href=\"http://t.co/SASXU1yF3E\">pic.twitter.com/SASXU1yF3E</a></p>&mdash; Lynden Steele (@manofsteele) <a href=\"https://twitter.com/manofsteele/status/499432557906104320\">August 13, 2014</a></blockquote>\n",
    "<script async src=\"//platform.twitter.com/widgets.js\" charset=\"utf-8\"></script>"
   ]
  },
  {
   "cell_type": "markdown",
   "metadata": {},
   "source": [
    "And here is its JSON representation:"
   ]
  },
  {
   "cell_type": "markdown",
   "metadata": {},
   "source": [
    "\n",
    "```json\n",
    "{\n",
    "  \"contributors\": null,\n",
    "  \"truncated\": false,\n",
    "  \"text\": \"Wow...A man picks up burning tear gas can and throws it back at police. #ferguson pic by @kodacohen @stltoday http://t.co/SASXU1yF3E\",\n",
    "  \"is_quote_status\": false,\n",
    "  \"in_reply_to_status_id\": null,\n",
    "  \"id\": 499432557906104320,\n",
    "  \"favorite_count\": 4952,\n",
    "  \"source\": \"<a href=\\\"http://twitter.com\\\" rel=\\\"nofollow\\\">Twitter Web Client</a>\",\n",
    "  \"retweeted\": false,\n",
    "  \"coordinates\": null,\n",
    "  \"entities\": {\n",
    "    \"symbols\": [],\n",
    "    \"user_mentions\": [\n",
    "      {\n",
    "        \"id\": 17073225,\n",
    "        \"indices\": [\n",
    "          89,\n",
    "          99\n",
    "        ],\n",
    "        \"id_str\": \"17073225\",\n",
    "        \"screen_name\": \"kodacohen\",\n",
    "        \"name\": \"Robert Cohen\"\n",
    "      },\n",
    "      {\n",
    "        \"id\": 6039302,\n",
    "        \"indices\": [\n",
    "          100,\n",
    "          109\n",
    "        ],\n",
    "        \"id_str\": \"6039302\",\n",
    "        \"screen_name\": \"stltoday\",\n",
    "        \"name\": \"STLtoday\"\n",
    "      }\n",
    "    ],\n",
    "    \"hashtags\": [\n",
    "      {\n",
    "        \"indices\": [\n",
    "          72,\n",
    "          81\n",
    "        ],\n",
    "        \"text\": \"ferguson\"\n",
    "      }\n",
    "    ],\n",
    "    \"urls\": [],\n",
    "    \"media\": [\n",
    "      {\n",
    "        \"expanded_url\": \"http://twitter.com/manofsteele/status/499432557906104320/photo/1\",\n",
    "        \"display_url\": \"pic.twitter.com/SASXU1yF3E\",\n",
    "        \"url\": \"http://t.co/SASXU1yF3E\",\n",
    "        \"media_url_https\": \"https://pbs.twimg.com/media/Bu5XQ6KCIAEPh81.jpg\",\n",
    "        \"id_str\": \"499432556685565953\",\n",
    "        \"sizes\": {\n",
    "          \"small\": {\n",
    "            \"h\": 187,\n",
    "            \"resize\": \"fit\",\n",
    "            \"w\": 340\n",
    "          },\n",
    "          \"large\": {\n",
    "            \"h\": 550,\n",
    "            \"resize\": \"fit\",\n",
    "            \"w\": 999\n",
    "          },\n",
    "          \"medium\": {\n",
    "            \"h\": 330,\n",
    "            \"resize\": \"fit\",\n",
    "            \"w\": 600\n",
    "          },\n",
    "          \"thumb\": {\n",
    "            \"h\": 150,\n",
    "            \"resize\": \"crop\",\n",
    "            \"w\": 150\n",
    "          }\n",
    "        },\n",
    "        \"indices\": [\n",
    "          110,\n",
    "          132\n",
    "        ],\n",
    "        \"type\": \"photo\",\n",
    "        \"id\": 499432556685565953,\n",
    "        \"media_url\": \"http://pbs.twimg.com/media/Bu5XQ6KCIAEPh81.jpg\"\n",
    "      }\n",
    "    ]\n",
    "  },\n",
    "  \"in_reply_to_screen_name\": null,\n",
    "  \"id_str\": \"499432557906104320\",\n",
    "  \"retweet_count\": 8223,\n",
    "  \"in_reply_to_user_id\": null,\n",
    "  \"favorited\": false,\n",
    "  \"user\": {\n",
    "    \"follow_request_sent\": false,\n",
    "    \"has_extended_profile\": false,\n",
    "    \"profile_use_background_image\": true,\n",
    "    \"default_profile_image\": false,\n",
    "    \"id\": 16661744,\n",
    "    \"profile_background_image_url_https\": \"https://abs.twimg.com/images/themes/theme9/bg.gif\",\n",
    "    \"verified\": true,\n",
    "    \"profile_text_color\": \"666666\",\n",
    "    \"profile_image_url_https\": \"https://pbs.twimg.com/profile_images/419932700590358528/f05wsGeS_normal.jpeg\",\n",
    "    \"profile_sidebar_fill_color\": \"252429\",\n",
    "    \"entities\": {\n",
    "      \"url\": {\n",
    "        \"urls\": [\n",
    "          {\n",
    "            \"url\": \"http://t.co/EXlC5LuwAF\",\n",
    "            \"indices\": [\n",
    "              0,\n",
    "              22\n",
    "            ],\n",
    "            \"expanded_url\": \"http://www.stltoday.com\",\n",
    "            \"display_url\": \"stltoday.com\"\n",
    "          }\n",
    "        ]\n",
    "      },\n",
    "      \"description\": {\n",
    "        \"urls\": []\n",
    "      }\n",
    "    },\n",
    "    \"followers_count\": 2159,\n",
    "    \"profile_sidebar_border_color\": \"181A1E\",\n",
    "    \"id_str\": \"16661744\",\n",
    "    \"profile_background_color\": \"1A1B1F\",\n",
    "    \"listed_count\": 167,\n",
    "    \"is_translation_enabled\": false,\n",
    "    \"utc_offset\": -18000,\n",
    "    \"statuses_count\": 2858,\n",
    "    \"description\": \"St. Louis Post-Dispatch   Director of Photography\",\n",
    "    \"friends_count\": 1647,\n",
    "    \"location\": \"St. Louis\",\n",
    "    \"profile_link_color\": \"2FC2EF\",\n",
    "    \"profile_image_url\": \"http://pbs.twimg.com/profile_images/419932700590358528/f05wsGeS_normal.jpeg\",\n",
    "    \"following\": false,\n",
    "    \"geo_enabled\": false,\n",
    "    \"profile_banner_url\": \"https://pbs.twimg.com/profile_banners/16661744/1391829947\",\n",
    "    \"profile_background_image_url\": \"http://abs.twimg.com/images/themes/theme9/bg.gif\",\n",
    "    \"screen_name\": \"manofsteele\",\n",
    "    \"lang\": \"en\",\n",
    "    \"profile_background_tile\": false,\n",
    "    \"favourites_count\": 110,\n",
    "    \"name\": \"Lynden Steele\",\n",
    "    \"notifications\": false,\n",
    "    \"url\": \"http://t.co/EXlC5LuwAF\",\n",
    "    \"created_at\": \"Thu Oct 09 03:53:26 +0000 2008\",\n",
    "    \"contributors_enabled\": false,\n",
    "    \"time_zone\": \"Central Time (US & Canada)\",\n",
    "    \"protected\": false,\n",
    "    \"default_profile\": false,\n",
    "    \"is_translator\": false\n",
    "  },\n",
    "  \"geo\": null,\n",
    "  \"in_reply_to_user_id_str\": null,\n",
    "  \"possibly_sensitive\": false,\n",
    "  \"possibly_sensitive_appealable\": false,\n",
    "  \"lang\": \"en\",\n",
    "  \"created_at\": \"Wed Aug 13 05:49:35 +0000 2014\",\n",
    "  \"in_reply_to_status_id_str\": null,\n",
    "  \"place\": null,\n",
    "  \"extended_entities\": {\n",
    "    \"media\": [\n",
    "      {\n",
    "        \"expanded_url\": \"http://twitter.com/manofsteele/status/499432557906104320/photo/1\",\n",
    "        \"display_url\": \"pic.twitter.com/SASXU1yF3E\",\n",
    "        \"url\": \"http://t.co/SASXU1yF3E\",\n",
    "        \"media_url_https\": \"https://pbs.twimg.com/media/Bu5XQ6KCIAEPh81.jpg\",\n",
    "        \"id_str\": \"499432556685565953\",\n",
    "        \"sizes\": {\n",
    "          \"small\": {\n",
    "            \"h\": 187,\n",
    "            \"resize\": \"fit\",\n",
    "            \"w\": 340\n",
    "          },\n",
    "          \"large\": {\n",
    "            \"h\": 550,\n",
    "            \"resize\": \"fit\",\n",
    "            \"w\": 999\n",
    "          },\n",
    "          \"medium\": {\n",
    "            \"h\": 330,\n",
    "            \"resize\": \"fit\",\n",
    "            \"w\": 600\n",
    "          },\n",
    "          \"thumb\": {\n",
    "            \"h\": 150,\n",
    "            \"resize\": \"crop\",\n",
    "            \"w\": 150\n",
    "          }\n",
    "        },\n",
    "        \"indices\": [\n",
    "          110,\n",
    "          132\n",
    "        ],\n",
    "        \"type\": \"photo\",\n",
    "        \"id\": 499432556685565953,\n",
    "        \"media_url\": \"http://pbs.twimg.com/media/Bu5XQ6KCIAEPh81.jpg\"\n",
    "      }\n",
    "    ]\n",
    "  }\n",
    "}\n",
    "```"
   ]
  },
  {
   "cell_type": "markdown",
   "metadata": {},
   "source": [
    "Quite a bit to chew on there right?"
   ]
  },
  {
   "cell_type": "code",
   "execution_count": null,
   "metadata": {
    "collapsed": true
   },
   "outputs": [],
   "source": []
  }
 ],
 "metadata": {
  "kernelspec": {
   "display_name": "Python 3",
   "language": "python",
   "name": "python3"
  },
  "language_info": {
   "codemirror_mode": {
    "name": "ipython",
    "version": 3
   },
   "file_extension": ".py",
   "mimetype": "text/x-python",
   "name": "python",
   "nbconvert_exporter": "python",
   "pygments_lexer": "ipython3",
   "version": "3.4.0"
  }
 },
 "nbformat": 4,
 "nbformat_minor": 0
}
