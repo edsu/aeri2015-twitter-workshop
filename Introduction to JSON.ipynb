{
 "cells": [
  {
   "cell_type": "markdown",
   "metadata": {},
   "source": [
    "## A Gentle (Pythonic) Introduction to JSON \n",
    "\n",
    "Programming languages have lots of ways of representing data called \n",
    "*data structures*. Very often you want to flatten, or *serialize* these \n",
    "data structures so that they can be transmitted over the network or stored \n",
    "in a file for later. In the old days, you'd invent a file format of your own \n",
    "devising to do this and write the different bits of your data structure \n",
    "into the file format. But that's an expensive way of doing things and very \n",
    "error prone. \n",
    "\n",
    "Most modern languages have a way of automatically serialising data structures, \n",
    "and the one used by JavaScript took off in a big way, probably because it is \n",
    "very simple to understand and use, and is embedded in every Web browser. \n",
    "Conveniently in your case, it's also very similar to the way things are done \n",
    "natively in Python. This format is called JavaScript Object Notation or [JSON](https://en.wikipedia.org/wiki/JSON) for short.\n",
    "\n",
    "You really only need to know about two types of structure to understand JSON. \n",
    "In Python parlance these are [lists](https://docs.python.org/2/tutorial/datastructures.html#more-on-lists) and [dictionaries](https://docs.python.org/2/tutorial/datastructures.html#dictionaries), and they are both \n",
    "built in to the language itself. The same is true of other programming \n",
    "languages, like Ruby, Perl, PHP, Java and (of course) JavaScript.\n",
    "\n",
    "### Lists\n",
    "\n",
    "A list is a container into which you can put other things, knowing that their \n",
    "order will be preserved. For example if I wrote:"
   ]
  },
  {
   "cell_type": "code",
   "execution_count": 2,
   "metadata": {
    "collapsed": true
   },
   "outputs": [],
   "source": [
    "numbers = [1, 2, 10]"
   ]
  },
  {
   "cell_type": "markdown",
   "metadata": {},
   "source": [
    "I would create a list named `numbers` that contains the integers 1, 2 and 10 \n",
    "in that order. Python will never re-arrange a list, you can guarantee the \n",
    "order stays the same unless you manipulate it yourself. \n",
    "\n",
    "You can pretty much have anything you like in a list. For example this"
   ]
  },
  {
   "cell_type": "code",
   "execution_count": 3,
   "metadata": {
    "collapsed": true
   },
   "outputs": [],
   "source": [
    "things = [1, \"dog\", 4.5]"
   ]
  },
  {
   "cell_type": "markdown",
   "metadata": {},
   "source": [
    "creates a list named `things` that contains the integer `1`, the string `dog` \n",
    "and the real number `4.5`. \n",
    "\n",
    "### Dictionaries\n",
    "\n",
    "The next thing you need to know about is a dictionary. A dictionary makes an \n",
    "association between a *key* and a *value*. It's like a mini-database where you \n",
    "can put stuff in, give it a unique identifier, and then use that identifier \n",
    "later to retrieve it. For example, a dictionary called `ages` containing \n",
    "people's ages might look like:"
   ]
  },
  {
   "cell_type": "code",
   "execution_count": 4,
   "metadata": {
    "collapsed": true
   },
   "outputs": [],
   "source": [
    "ages = { \"Anne\" : 34, \"Bob\" : 29, \"Alex\" : 15 }"
   ]
  },
  {
   "cell_type": "markdown",
   "metadata": {},
   "source": [
    "If you want you can make this a bit more readable by using multiple lines:"
   ]
  },
  {
   "cell_type": "code",
   "execution_count": 5,
   "metadata": {
    "collapsed": true
   },
   "outputs": [],
   "source": [
    "ages = {\n",
    "  \"Anne\" : 34,\n",
    "  \"Bob\" : 29,\n",
    "  \"Alex\" : 15 \n",
    "}"
   ]
  },
  {
   "cell_type": "markdown",
   "metadata": {},
   "source": [
    "This dictionary contains three entries, one with the key `Anne` and the value \n",
    "`34`, one with the key `Bob` and the value `29`, and a third with the key `Alex` \n",
    "and the value `15`.\n",
    "\n",
    "So you can print out Anne's age:"
   ]
  },
  {
   "cell_type": "code",
   "execution_count": 6,
   "metadata": {
    "collapsed": false
   },
   "outputs": [
    {
     "name": "stdout",
     "output_type": "stream",
     "text": [
      "34\n"
     ]
    }
   ],
   "source": [
    "print(ages['Anne'])"
   ]
  },
  {
   "cell_type": "markdown",
   "metadata": {},
   "source": [
    "### Composing Lists and Dictionaries\n",
    "\n",
    "To make things a bit more interesting (and expressive) you can put lists and \n",
    "dictionaries inside one another. So you could have a list containing \n",
    "dictionaries, or a dictionary where each value is a list and so on. \n",
    "\n",
    "This turns out to be a fairly generic way of flattening complex data \n",
    "structures, and it's exactly what JSON is based on. JSON actually uses a \n",
    "notation that's very similar (I think perhaps even identical) to the way that \n",
    "Python displays lists and dictionaries, so if you're familiar with one you can \n",
    "read the other. \n",
    "\n",
    "So let's imagine I want to represent a *person*. I can create a dictionary \n",
    "with specific keys and values. Something like..."
   ]
  },
  {
   "cell_type": "code",
   "execution_count": 7,
   "metadata": {
    "collapsed": true
   },
   "outputs": [],
   "source": [
    "person1 = { \n",
    "  \"name\": \"Anne\",\n",
    "  \"age\": 34, \n",
    "  \"shoesize\": 6\n",
    "}"
   ]
  },
  {
   "cell_type": "markdown",
   "metadata": {},
   "source": [
    "and maybe a second person:"
   ]
  },
  {
   "cell_type": "code",
   "execution_count": 9,
   "metadata": {
    "collapsed": false
   },
   "outputs": [],
   "source": [
    "person2 = { \n",
    "  \"name\": \"Bob\",\n",
    "  \"age\": 29, \n",
    "  \"shoesize\": 11\n",
    "}"
   ]
  },
  {
   "cell_type": "markdown",
   "metadata": {},
   "source": [
    "I could now put these two people into a list"
   ]
  },
  {
   "cell_type": "code",
   "execution_count": 10,
   "metadata": {
    "collapsed": true
   },
   "outputs": [],
   "source": [
    "people = [person1, person2]"
   ]
  },
  {
   "cell_type": "markdown",
   "metadata": {},
   "source": [
    "### JSON\n",
    "\n",
    "What might the list `people` look like if I wrote it out in long hand? It \n",
    "would contain two dictionaries, `person1` and `person2`, and each of those \n",
    "would have three keys called `name`, `age` and `shoesize` associated with \n",
    "their respective values. If I wrote the whole thing out longhand in Python \n",
    "notation, it would look like this:\n",
    "\n",
    "```python\n",
    "[\n",
    "  { \n",
    "    \"name\": \"Anne\",\n",
    "    \"age\": 34,\n",
    "    \"shoesize\": 6\n",
    "  },\n",
    "  {\n",
    "    \"name\": \"Bob\",\n",
    "    \"age\": 29,\n",
    "    \"shoesize\": 11\n",
    "  }\n",
    "]```"
   ]
  },
  {
   "cell_type": "markdown",
   "metadata": {},
   "source": [
    "And that conveniently happens to be JSON notation too! That’s all JSON really \n",
    "is: a convenient way of describing data structures as combinations of \n",
    "(what in Python we would call) dictionaries and lists so they can be saved \n",
    "into files or transmitted over communications links (e.g. over the web or \n",
    "between applications).\n",
    "\n",
    "[lists]: https://docs.python.org/2/tutorial/datastructures.html#more-on-lists\n",
    "[dictionaries]: https://docs.python.org/2/tutorial/datastructures.html#dictionaries\n",
    "[JSON]: https://en.wikipedia.org/wiki/JSON"
   ]
  },
  {
   "cell_type": "code",
   "execution_count": null,
   "metadata": {
    "collapsed": true
   },
   "outputs": [],
   "source": []
  }
 ],
 "metadata": {
  "kernelspec": {
   "display_name": "Python 3",
   "language": "python",
   "name": "python3"
  },
  "language_info": {
   "codemirror_mode": {
    "name": "ipython",
    "version": 3
   },
   "file_extension": ".py",
   "mimetype": "text/x-python",
   "name": "python",
   "nbconvert_exporter": "python",
   "pygments_lexer": "ipython3",
   "version": "3.4.0"
  }
 },
 "nbformat": 4,
 "nbformat_minor": 0
}
